{
 "cells": [
  {
   "cell_type": "code",
   "execution_count": 1,
   "metadata": {
    "ExecuteTime": {
     "end_time": "2023-07-17T05:41:51.422952Z",
     "start_time": "2023-07-17T05:41:51.353174Z"
    },
    "collapsed": true
   },
   "outputs": [],
   "source": [
    "# import\n",
    "import os, sys\n",
    "import numpy as np\n",
    "\n",
    "# import plotting libraries\n",
    "import matplotlib.pyplot as plt\n",
    "# import nctpy functions\n",
    "sys.path.extend(['/Users/lindenmp/Google-Drive-Personal/work/research_projects/nctpy/src'])\n",
    "from nctpy.energies import integrate_u, get_control_inputs\n",
    "from nctpy.utils import matrix_normalization, convert_states_str2int, normalize_state\n",
    "from nctpy.plotting import set_plotting_params\n",
    "set_plotting_params()"
   ]
  },
  {
   "cell_type": "markdown",
   "metadata": {
    "collapsed": false
   },
   "source": [
    "# Using get_control_inputs\n",
    "\n",
    "This notebook covers examples of different ways in which get_control_inputs can used to derive control energy"
   ]
  },
  {
   "cell_type": "markdown",
   "metadata": {
    "collapsed": false
   },
   "source": [
    "### Load adjacency"
   ]
  },
  {
   "cell_type": "code",
   "execution_count": 2,
   "metadata": {
    "ExecuteTime": {
     "end_time": "2023-07-17T05:41:51.423871Z",
     "start_time": "2023-07-17T05:41:51.368982Z"
    },
    "collapsed": false,
    "pycharm": {
     "name": "#%%\n"
    }
   },
   "outputs": [
    {
     "name": "stdout",
     "output_type": "stream",
     "text": [
      "(200, 200)\n"
     ]
    }
   ],
   "source": [
    "# directory where data is stored\n",
    "datadir = \"/Users/lindenmp/Google-Drive-Personal/work/research_projects/nctpy/data\"\n",
    "resultsdir = \"/Users/lindenmp/Google-Drive-Personal/work/research_projects/nctpy/results\"\n",
    "adjacency_file = \"pnc_schaefer200_Am.npy\"\n",
    "\n",
    "# load adjacency matrix\n",
    "adjacency = np.load(os.path.join(datadir, adjacency_file))\n",
    "n_nodes = adjacency.shape[0]\n",
    "print(adjacency.shape)"
   ]
  },
  {
   "cell_type": "markdown",
   "metadata": {
    "collapsed": false
   },
   "source": [
    "### Get initial and target state"
   ]
  },
  {
   "cell_type": "code",
   "execution_count": 3,
   "metadata": {
    "ExecuteTime": {
     "end_time": "2023-07-17T05:41:51.424291Z",
     "start_time": "2023-07-17T05:41:51.373559Z"
    },
    "collapsed": false,
    "pycharm": {
     "name": "#%%\n"
    }
   },
   "outputs": [],
   "source": [
    "# load node-to-system mapping\n",
    "system_labels = list(\n",
    "    np.loadtxt(os.path.join(datadir, \"pnc_schaefer200_system_labels.txt\"), dtype=str)\n",
    ")\n",
    "\n",
    "# use list of system names to create states\n",
    "states, state_labels = convert_states_str2int(system_labels)\n",
    "\n",
    "# extract initial state\n",
    "initial_state = states == state_labels.index(\"Vis\")\n",
    "\n",
    "# extract target state\n",
    "target_state = states == state_labels.index(\"Default\")\n",
    "\n",
    "# normalize state magnitude\n",
    "initial_state = normalize_state(initial_state)\n",
    "target_state = normalize_state(target_state)"
   ]
  },
  {
   "cell_type": "markdown",
   "metadata": {
    "collapsed": false,
    "pycharm": {
     "name": "#%% md\n"
    }
   },
   "source": [
    "# Get energy\n",
    "\n",
    "By default, we compute $x$ and $u$ using the following settings:\n",
    "1. Time system: continuous\n",
    "2. Control set: uniform full\n",
    "3. Time horizon: 1\n",
    "4. The constraints on $x$ are equal to the constraints on $u$ (*rho*)\n",
    "5. The constraints on $x$ are applied to all system nodes (*trajectory_constraints*)\n",
    "6. Amplitude of $x$ and $u$ are constrained toward zero (*reference_state*)\n",
    "\n",
    "You can compute $x$ and $u$ using the above settings like so:"
   ]
  },
  {
   "cell_type": "code",
   "execution_count": 4,
   "metadata": {
    "ExecuteTime": {
     "end_time": "2023-07-17T05:41:51.685373Z",
     "start_time": "2023-07-17T05:41:51.390004Z"
    },
    "collapsed": false,
    "pycharm": {
     "name": "#%%\n"
    }
   },
   "outputs": [
    {
     "name": "stdout",
     "output_type": "stream",
     "text": [
      "energy: 2604.71\n"
     ]
    }
   ],
   "source": [
    "system = \"continuous\"  # choose time system\n",
    "adjacency_norm = matrix_normalization(adjacency, system=system, c=1)  # normalize adjacency\n",
    "control_set = np.eye(n_nodes)  # uniform full control set\n",
    "time_horizon = 1  # time horizon\n",
    "rho = 1  # x and u constrained equally\n",
    "trajectory_constraints = np.eye(n_nodes)  # x is constrained over all nodes\n",
    "reference_state = np.zeros(n_nodes)  # x and u constrained toward zero activity\n",
    "\n",
    "# get the state trajectory and the control inputs\n",
    "state_trajectory, control_signals, numerical_error = get_control_inputs(\n",
    "    A_norm=adjacency_norm,\n",
    "    T=time_horizon,\n",
    "    B=control_set,\n",
    "    x0=initial_state,\n",
    "    xf=target_state,\n",
    "    system=system,\n",
    "    rho=rho,\n",
    "    S=trajectory_constraints,\n",
    "    xr=reference_state,\n",
    ")\n",
    "node_energy = integrate_u(control_signals)\n",
    "energy = np.sum(node_energy)\n",
    "\n",
    "print(\"energy: {0:.2f}\".format(energy))"
   ]
  },
  {
   "cell_type": "markdown",
   "metadata": {
    "collapsed": false,
    "pycharm": {
     "name": "#%% md\n"
    }
   },
   "source": [
    "## Variations\n",
    "\n",
    "All of the below code cells represent variations to the above default settings. Changes are noted in comments."
   ]
  },
  {
   "cell_type": "markdown",
   "metadata": {
    "collapsed": false,
    "pycharm": {
     "name": "#%% md\n"
    }
   },
   "source": [
    "### You want to vary the constraints on $x$?\n",
    "\n",
    "Note, constraints on $u$ cannot be change; the control signals are always minimized in the cost function.\n",
    "The only thing that can be varied is the extent to which $x$ is constrained alongside $u$.\n",
    "Reducing $rho$ below 1 increases the extent to which $x$ adds to the cost function alongside $u$.\n",
    "Conversely, increasing $rho$ beyond 1 reduces the contribution of $x$, thus increasing the relative prioritization of $u$."
   ]
  },
  {
   "cell_type": "code",
   "execution_count": 5,
   "metadata": {
    "ExecuteTime": {
     "end_time": "2023-07-17T05:41:51.863534Z",
     "start_time": "2023-07-17T05:41:51.699866Z"
    },
    "collapsed": false,
    "pycharm": {
     "name": "#%%\n"
    }
   },
   "outputs": [
    {
     "name": "stdout",
     "output_type": "stream",
     "text": [
      "energy: 2686.91\n"
     ]
    }
   ],
   "source": [
    "system = \"continuous\"  # choose time system\n",
    "adjacency_norm = matrix_normalization(adjacency, system=system, c=1)  # normalize adjacency\n",
    "control_set = np.eye(n_nodes)  # uniform full control set\n",
    "time_horizon = 1  # time horizon\n",
    "rho = 0.5  # x constrained more than u  <-- NOTE CHANGE.\n",
    "trajectory_constraints = np.eye(n_nodes)  # x is constrained over all nodes\n",
    "reference_state = np.zeros(n_nodes)  # x and u constrained toward zero activity\n",
    "\n",
    "# get the state trajectory and the control inputs\n",
    "state_trajectory, control_signals, numerical_error = get_control_inputs(\n",
    "    A_norm=adjacency_norm,\n",
    "    T=time_horizon,\n",
    "    B=control_set,\n",
    "    x0=initial_state,\n",
    "    xf=target_state,\n",
    "    system=system,\n",
    "    rho=rho,\n",
    "    S=trajectory_constraints,\n",
    "    xr=reference_state,\n",
    ")\n",
    "node_energy = integrate_u(control_signals)\n",
    "energy = np.sum(node_energy)\n",
    "\n",
    "print(\"energy: {0:.2f}\".format(energy))"
   ]
  },
  {
   "cell_type": "code",
   "execution_count": 6,
   "metadata": {
    "ExecuteTime": {
     "end_time": "2023-07-17T05:41:52.016832Z",
     "start_time": "2023-07-17T05:41:51.917440Z"
    },
    "collapsed": false,
    "pycharm": {
     "name": "#%%\n"
    }
   },
   "outputs": [
    {
     "name": "stdout",
     "output_type": "stream",
     "text": [
      "energy: 2586.67\n"
     ]
    }
   ],
   "source": [
    "system = \"continuous\"  # choose time system\n",
    "adjacency_norm = matrix_normalization(adjacency, system=system, c=1)  # normalize adjacency\n",
    "control_set = np.eye(n_nodes)  # uniform full control set\n",
    "time_horizon = 1  # time horizon\n",
    "rho = 1.5  # x constrained less than u  <-- NOTE CHANGE.\n",
    "trajectory_constraints = np.eye(n_nodes)  # x is constrained over all nodes\n",
    "reference_state = np.zeros(n_nodes)  # x and u constrained toward zero activity\n",
    "\n",
    "# get the state trajectory and the control inputs\n",
    "state_trajectory, control_signals, numerical_error = get_control_inputs(\n",
    "    A_norm=adjacency_norm,\n",
    "    T=time_horizon,\n",
    "    B=control_set,\n",
    "    x0=initial_state,\n",
    "    xf=target_state,\n",
    "    system=system,\n",
    "    rho=rho,\n",
    "    S=trajectory_constraints,\n",
    "    xr=reference_state,\n",
    ")\n",
    "node_energy = integrate_u(control_signals)\n",
    "energy = np.sum(node_energy)\n",
    "\n",
    "print(\"energy: {0:.2f}\".format(energy))"
   ]
  },
  {
   "cell_type": "markdown",
   "metadata": {
    "collapsed": false,
    "pycharm": {
     "name": "#%% md\n"
    }
   },
   "source": [
    "### You want to only constrain u and not x?\n",
    "\n",
    "Note, this is what we refer to as *minimum control energy*; the energy where only the control signals are constrained"
   ]
  },
  {
   "cell_type": "code",
   "execution_count": 7,
   "metadata": {
    "ExecuteTime": {
     "end_time": "2023-07-17T05:41:52.183580Z",
     "start_time": "2023-07-17T05:41:52.021002Z"
    },
    "collapsed": false,
    "pycharm": {
     "name": "#%%\n"
    }
   },
   "outputs": [
    {
     "name": "stdout",
     "output_type": "stream",
     "text": [
      "energy: 2570.65\n"
     ]
    }
   ],
   "source": [
    "system = \"continuous\"  # choose time system\n",
    "adjacency_norm = matrix_normalization(adjacency, system=system, c=1)  # normalize adjacency\n",
    "control_set = np.eye(n_nodes)  # uniform full control set\n",
    "time_horizon = 1  # time horizon\n",
    "#  <-- NOTE REMOVAL OF RHO\n",
    "trajectory_constraints = np.zeros((n_nodes, n_nodes))  # x is *not* constrained  <-- NOTE CHANGE\n",
    "reference_state = np.zeros(n_nodes)  # u constrained toward zero activity\n",
    "\n",
    "# get the state trajectory and the control inputs\n",
    "state_trajectory, control_signals, numerical_error = get_control_inputs(\n",
    "    A_norm=adjacency_norm,\n",
    "    T=time_horizon,\n",
    "    B=control_set,\n",
    "    x0=initial_state,\n",
    "    xf=target_state,\n",
    "    system=system,\n",
    "    # <-- NOTE REMOVAL OF RHO\n",
    "    S=trajectory_constraints,\n",
    "    xr=reference_state,\n",
    ")\n",
    "node_energy = integrate_u(control_signals)\n",
    "energy = np.sum(node_energy)\n",
    "\n",
    "print(\"energy: {0:.2f}\".format(energy))"
   ]
  },
  {
   "cell_type": "markdown",
   "metadata": {
    "collapsed": false,
    "pycharm": {
     "name": "#%% md\n"
    }
   },
   "source": [
    "### You want to constrain $x$ and $u$ toward the target state instead of toward zero?"
   ]
  },
  {
   "cell_type": "code",
   "execution_count": 8,
   "metadata": {
    "ExecuteTime": {
     "end_time": "2023-07-17T05:41:52.665578Z",
     "start_time": "2023-07-17T05:41:52.188335Z"
    },
    "collapsed": false,
    "pycharm": {
     "name": "#%%\n"
    }
   },
   "outputs": [
    {
     "name": "stdout",
     "output_type": "stream",
     "text": [
      "energy: 2607.39\n"
     ]
    }
   ],
   "source": [
    "system = \"continuous\"  # choose time system\n",
    "adjacency_norm = matrix_normalization(adjacency, system=system, c=1)  # normalize adjacency\n",
    "control_set = np.eye(n_nodes)  # uniform full control set\n",
    "time_horizon = 1  # time horizon\n",
    "rho = 1  # x and u constrained equally\n",
    "trajectory_constraints = np.eye(n_nodes)  # x is constrained over all nodes\n",
    "reference_state = target_state # x and u constrained toward target start  <-- NOTE CHANGE\n",
    "\n",
    "# get the state trajectory and the control inputs\n",
    "state_trajectory, control_signals, numerical_error = get_control_inputs(\n",
    "    A_norm=adjacency_norm,\n",
    "    T=time_horizon,\n",
    "    B=control_set,\n",
    "    x0=initial_state,\n",
    "    xf=target_state,\n",
    "    system=system,\n",
    "    rho=rho,\n",
    "    S=trajectory_constraints,\n",
    "    xr=reference_state,\n",
    ")\n",
    "node_energy = integrate_u(control_signals)\n",
    "energy = np.sum(node_energy)\n",
    "\n",
    "print(\"energy: {0:.2f}\".format(energy))"
   ]
  },
  {
   "cell_type": "markdown",
   "metadata": {
    "collapsed": false
   },
   "source": [
    "### You want to use a discrete time system instead?\n",
    "\n",
    "Note, time horizon must be >1 for discrete time systems. In a discrete system, time is broken into\n",
    "discrete steps of 1, which means time_horizon=1 would be only 1 time step."
   ]
  },
  {
   "cell_type": "code",
   "execution_count": 9,
   "metadata": {
    "ExecuteTime": {
     "end_time": "2023-07-17T05:41:53.041540Z",
     "start_time": "2023-07-17T05:41:52.669578Z"
    },
    "collapsed": false,
    "pycharm": {
     "name": "#%%\n"
    }
   },
   "outputs": [
    {
     "name": "stdout",
     "output_type": "stream",
     "text": [
      "energy: 0.51\n"
     ]
    }
   ],
   "source": [
    "system = \"discrete\"  # choose time system  <-- NOTE CHANGE\n",
    "adjacency_norm = matrix_normalization(adjacency, system=system, c=1)  # normalize adjacency\n",
    "control_set = np.eye(n_nodes)  # uniform full control set\n",
    "time_horizon = 10  # time horizon  <-- NOTE CHANGE. TIME HORIZON MUST BE >1 FOR DISCRETE TIME SYSTEMS\n",
    "rho = 1  # x and u constrained equally\n",
    "trajectory_constraints = np.eye(n_nodes)  # x is constrained over all nodes\n",
    "reference_state = np.zeros(n_nodes)  # x and u constrained toward zero activity\n",
    "\n",
    "# get the state trajectory and the control inputs\n",
    "state_trajectory, control_signals, numerical_error = get_control_inputs(\n",
    "    A_norm=adjacency_norm,\n",
    "    T=time_horizon,\n",
    "    B=control_set,\n",
    "    x0=initial_state,\n",
    "    xf=target_state,\n",
    "    system=system,\n",
    "    rho=rho,\n",
    "    S=trajectory_constraints,\n",
    "    xr=reference_state,\n",
    ")\n",
    "node_energy = integrate_u(control_signals)\n",
    "energy = np.sum(node_energy)\n",
    "\n",
    "print(\"energy: {0:.2f}\".format(energy))"
   ]
  }
 ],
 "metadata": {
  "kernelspec": {
   "display_name": "Python 3",
   "language": "python",
   "name": "python3"
  },
  "language_info": {
   "codemirror_mode": {
    "name": "ipython",
    "version": 3
   },
   "file_extension": ".py",
   "mimetype": "text/x-python",
   "name": "python",
   "nbconvert_exporter": "python",
   "pygments_lexer": "ipython3",
   "version": "3.9.16"
  }
 },
 "nbformat": 4,
 "nbformat_minor": 0
}
