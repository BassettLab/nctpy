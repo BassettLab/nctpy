{
 "cells": [
  {
   "cell_type": "code",
   "execution_count": 1,
   "metadata": {
    "collapsed": true
   },
   "outputs": [],
   "source": [
    "# import\n",
    "import os\n",
    "import numpy as np\n",
    "\n",
    "# import plotting libraries\n",
    "import matplotlib.pyplot as plt\n",
    "plt.rcParams.update({'font.size': 10})\n",
    "plt.rcParams['svg.fonttype'] = 'none'\n",
    "\n",
    "# import network_control functions\n",
    "from network_control.energies import integrate_u, get_control_inputs\n",
    "from network_control.utils import matrix_normalization, convert_states_str2int, normalize_state"
   ]
  },
  {
   "cell_type": "markdown",
   "source": [
    "# Using get_control_inputs\n",
    "\n",
    "This notebook covers examples of different ways in which get_control_inputs can used to derive control energy"
   ],
   "metadata": {
    "collapsed": false
   }
  },
  {
   "cell_type": "markdown",
   "source": [
    "### Load A"
   ],
   "metadata": {
    "collapsed": false
   }
  },
  {
   "cell_type": "code",
   "execution_count": 2,
   "outputs": [
    {
     "name": "stdout",
     "output_type": "stream",
     "text": [
      "(200, 200)\n"
     ]
    }
   ],
   "source": [
    "# directory where data is stored\n",
    "datadir = '/Users/lindenmp/Google-Drive-Penn/work/research_projects/control_package/data'\n",
    "resultsdir = '/Users/lindenmp/Google-Drive-Penn/work/research_projects/control_package/results'\n",
    "A_file = 'pnc_schaefer200_Am.npy'\n",
    "\n",
    "# load A matrix\n",
    "A = np.load(os.path.join(datadir, A_file))\n",
    "n_nodes = A.shape[0]\n",
    "print(A.shape)"
   ],
   "metadata": {
    "collapsed": false,
    "pycharm": {
     "name": "#%%\n"
    }
   }
  },
  {
   "cell_type": "markdown",
   "source": [
    "### Get initial and target state"
   ],
   "metadata": {
    "collapsed": false
   }
  },
  {
   "cell_type": "code",
   "execution_count": 3,
   "outputs": [],
   "source": [
    "# load node-to-system mapping\n",
    "system_labels = list(np.loadtxt(os.path.join(datadir, 'pnc_schaefer200_system_labels.txt'),\n",
    "                                dtype=str))\n",
    "\n",
    "# use list of system names to create states\n",
    "states, state_labels = convert_states_str2int(system_labels)\n",
    "\n",
    "# extract initial state\n",
    "x0 = states == state_labels.index('Vis')\n",
    "\n",
    "# extract target state\n",
    "xf = states == state_labels.index('Default')\n",
    "\n",
    "# normalize state magnitude\n",
    "x0 = normalize_state(x0)\n",
    "xf = normalize_state(xf)"
   ],
   "metadata": {
    "collapsed": false,
    "pycharm": {
     "name": "#%%\n"
    }
   }
  },
  {
   "cell_type": "markdown",
   "source": [
    "# Get energy\n",
    "\n",
    "By default, we compute $x$ and $u$ using the following settings:\n",
    "1. Time system: continuous (*system*)\n",
    "2. Time horizon: 1 (*T*)\n",
    "3. Control set: uniform full (*B*)\n",
    "4. Amplitude of $x$ and $u$ are constrained toward zero (*xr*)\n",
    "5. The constraints on $x$ are equal to the constraints on $u$ (*rho*)\n",
    "6. The constraints on $x$ are applied to all system nodes (*S*)\n",
    "\n",
    "Note, terms in brackets represent the variables that govern each of these settings\n",
    "\n",
    "You can compute $x$ and $u$ using the above settings like so:"
   ],
   "metadata": {
    "collapsed": false,
    "pycharm": {
     "name": "#%% md\n"
    }
   }
  },
  {
   "cell_type": "code",
   "execution_count": 4,
   "outputs": [
    {
     "name": "stdout",
     "output_type": "stream",
     "text": [
      "energy: 2604.71\n"
     ]
    }
   ],
   "source": [
    "system = 'continuous'  # choose time system\n",
    "A_norm = matrix_normalization(A, system=system, c=1)  # normalize A\n",
    "B = np.eye(n_nodes)  # uniform full control set\n",
    "T = 1  # time horizon\n",
    "xr = np.zeros(n_nodes)  # x and u constrained toward zero activity\n",
    "rho = 1  # x and u constrained equally\n",
    "S = np.eye(n_nodes)  # x is constrained over all nodes\n",
    "\n",
    "# get the state trajectory (x) and the control inputs (u)\n",
    "x, u, n_err = get_control_inputs(A_norm=A_norm, T=T, B=B, x0=x0, xf=xf, system=system, xr=xr, rho=rho, S=S)\n",
    "node_energy = integrate_u(u)\n",
    "energy = np.sum(node_energy)\n",
    "\n",
    "print('energy: {0:.2f}'.format(energy))"
   ],
   "metadata": {
    "collapsed": false,
    "pycharm": {
     "name": "#%%\n"
    }
   }
  },
  {
   "cell_type": "markdown",
   "source": [
    "## Variations\n",
    "\n",
    "All of the below code cells represent variations to the above default settings. Changes are noted in comments."
   ],
   "metadata": {
    "collapsed": false,
    "pycharm": {
     "name": "#%% md\n"
    }
   }
  },
  {
   "cell_type": "markdown",
   "source": [
    "### You want to relax the constraints on $x$?\n",
    "\n",
    "Note, constraints on $u$ cannot be change; the control signals are always minimized in the cost function"
   ],
   "metadata": {
    "collapsed": false,
    "pycharm": {
     "name": "#%% md\n"
    }
   }
  },
  {
   "cell_type": "code",
   "execution_count": 5,
   "outputs": [
    {
     "name": "stdout",
     "output_type": "stream",
     "text": [
      "energy: 2686.91\n"
     ]
    }
   ],
   "source": [
    "system = 'continuous'  # choose time system\n",
    "A_norm = matrix_normalization(A, system=system, c=1)  # normalize A\n",
    "B = np.eye(n_nodes)  # uniform full control set\n",
    "T = 1  # time horizon\n",
    "xr = np.zeros(n_nodes)  # x and u constrained toward zero activity\n",
    "rho = 0.5  # x constrained less than u  <-- NOTE CHANGE.\n",
    "S = np.eye(n_nodes)  # x is constrained over all nodes\n",
    "\n",
    "# get the state trajectory (x) and the control inputs (u)\n",
    "x, u, n_err = get_control_inputs(A_norm=A_norm, T=T, B=B, x0=x0, xf=xf, system=system, xr=xr, rho=rho, S=S)\n",
    "node_energy = integrate_u(u)\n",
    "energy = np.sum(node_energy)\n",
    "\n",
    "print('energy: {0:.2f}'.format(energy))"
   ],
   "metadata": {
    "collapsed": false,
    "pycharm": {
     "name": "#%%\n"
    }
   }
  },
  {
   "cell_type": "markdown",
   "source": [
    "### You want to only constrain u and not x?\n",
    "\n",
    "Note, this is what we refer to as *minimum control energy*; the energy where only the control signals are constrained"
   ],
   "metadata": {
    "collapsed": false,
    "pycharm": {
     "name": "#%% md\n"
    }
   }
  },
  {
   "cell_type": "code",
   "execution_count": 6,
   "outputs": [
    {
     "name": "stdout",
     "output_type": "stream",
     "text": [
      "energy: 2570.65\n"
     ]
    }
   ],
   "source": [
    "system = 'continuous'  # choose time system\n",
    "A_norm = matrix_normalization(A, system=system, c=1)  # normalize A\n",
    "B = np.eye(n_nodes)  # uniform full control set\n",
    "T = 1  # time horizon\n",
    "xr = np.zeros(n_nodes)  # x and u constrained toward zero activity\n",
    "#  <-- NOTE REMOVAL OF RHO\n",
    "S = np.zeros((n_nodes, n_nodes))  # x is *not* constrained  <-- NOTE CHANGE\n",
    "\n",
    "# get the state trajectory (x) and the control inputs (u)\n",
    "x, u, n_err = get_control_inputs(A_norm=A_norm, T=T, B=B, x0=x0, xf=xf, system=system, xr=xr, S=S)  # <-- NOTE REMOVAL OF RHO\n",
    "node_energy = integrate_u(u)\n",
    "energy = np.sum(node_energy)\n",
    "\n",
    "print('energy: {0:.2f}'.format(energy))"
   ],
   "metadata": {
    "collapsed": false,
    "pycharm": {
     "name": "#%%\n"
    }
   }
  },
  {
   "cell_type": "markdown",
   "source": [
    "### You want to constrain $x$ and $u$ toward the target state instead of toward zero?"
   ],
   "metadata": {
    "collapsed": false,
    "pycharm": {
     "name": "#%% md\n"
    }
   }
  },
  {
   "cell_type": "code",
   "execution_count": 7,
   "outputs": [
    {
     "name": "stdout",
     "output_type": "stream",
     "text": [
      "energy: 2607.39\n"
     ]
    }
   ],
   "source": [
    "system = 'continuous'  # choose time system\n",
    "A_norm = matrix_normalization(A, system=system, c=1)  # normalize A\n",
    "B = np.eye(n_nodes)  # uniform full control set\n",
    "T = 1  # time horizon\n",
    "xr = xf  # x and u constrained toward target start  <-- NOTE CHANGE\n",
    "rho = 1  # x and u constrained equally\n",
    "S = np.eye(n_nodes)  # x is constrained over all nodes\n",
    "\n",
    "# get the state trajectory (x) and the control inputs (u)\n",
    "x, u, n_err = get_control_inputs(A_norm=A_norm, T=T, B=B, x0=x0, xf=xf, system=system, xr=xr, rho=rho, S=S)\n",
    "node_energy = integrate_u(u)\n",
    "energy = np.sum(node_energy)\n",
    "\n",
    "print('energy: {0:.2f}'.format(energy))"
   ],
   "metadata": {
    "collapsed": false,
    "pycharm": {
     "name": "#%%\n"
    }
   }
  },
  {
   "cell_type": "markdown",
   "source": [
    "### You want to use a discrete time system instead?\n",
    "\n",
    "Note, time horizon must be >1 for discrete time systems. In a discrete system, time is broken into\n",
    "discrete steps of 1, which means T=1 would be only 1 time step."
   ],
   "metadata": {
    "collapsed": false
   }
  },
  {
   "cell_type": "code",
   "execution_count": 8,
   "outputs": [
    {
     "name": "stdout",
     "output_type": "stream",
     "text": [
      "energy: 0.51\n"
     ]
    }
   ],
   "source": [
    "system = 'discrete'  # choose time system  <-- NOTE CHANGE\n",
    "A_norm = matrix_normalization(A, system=system, c=1)  # normalize A\n",
    "B = np.eye(n_nodes)  # uniform full control set\n",
    "T = 10  # time horizon  <-- NOTE CHANGE. TIME HORIZON MUST BE >1 FOR DISCRETE TIME SYSTEMS\n",
    "xr = np.zeros(n_nodes)  # x and u constrained toward zero activity\n",
    "rho = 1  # x and u constrained equally\n",
    "S = np.eye(n_nodes)  # x is constrained over all nodes\n",
    "\n",
    "# get the state trajectory (x) and the control inputs (u)\n",
    "x, u, n_err = get_control_inputs(A_norm=A_norm, T=T, B=B, x0=x0, xf=xf, system=system, xr=xr, rho=rho, S=S)\n",
    "node_energy = integrate_u(u)\n",
    "energy = np.sum(node_energy)\n",
    "\n",
    "print('energy: {0:.2f}'.format(energy))"
   ],
   "metadata": {
    "collapsed": false,
    "pycharm": {
     "name": "#%%\n"
    }
   }
  }
 ],
 "metadata": {
  "kernelspec": {
   "display_name": "Python 3",
   "language": "python",
   "name": "python3"
  },
  "language_info": {
   "codemirror_mode": {
    "name": "ipython",
    "version": 2
   },
   "file_extension": ".py",
   "mimetype": "text/x-python",
   "name": "python",
   "nbconvert_exporter": "python",
   "pygments_lexer": "ipython2",
   "version": "2.7.6"
  }
 },
 "nbformat": 4,
 "nbformat_minor": 0
}