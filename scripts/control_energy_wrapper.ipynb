{
 "cells": [
  {
   "cell_type": "code",
   "execution_count": 1,
   "outputs": [],
   "source": [
    "# import\n",
    "import os\n",
    "import numpy as np\n",
    "import pandas as pd\n",
    "import scipy as sp\n",
    "from scipy import stats\n",
    "from scipy.spatial import distance\n",
    "from sklearn.cluster import KMeans\n",
    "from tqdm import tqdm\n",
    "\n",
    "# import plotting libraries\n",
    "import matplotlib.pyplot as plt\n",
    "plt.rcParams.update({'font.size': 10})\n",
    "plt.rcParams['svg.fonttype'] = 'none'\n",
    "import seaborn as sns\n",
    "from nilearn import datasets\n",
    "from nilearn import plotting\n",
    "\n",
    "# import nctpy functions\n",
    "from nctpy.energies import integrate_u, get_control_inputs\n",
    "from nctpy.pipelines import ComputeControlEnergy, ComputeOptimizedControlEnergy\n",
    "from nctpy.metrics import ave_control\n",
    "from nctpy.utils import matrix_normalization, convert_states_str2int, \\\n",
    "    normalize_state, normalize_weights, get_null_p, get_fdr_p\n",
    "from nctpy.plotting import roi_to_vtx, null_plot, surface_plot, add_module_lines\n",
    "from null_models.geomsurr import geomsurr"
   ],
   "metadata": {
    "collapsed": false,
    "pycharm": {
     "name": "#%%\n"
    }
   }
  },
  {
   "cell_type": "markdown",
   "source": [
    "# Wrapping Pathway A for ease of use"
   ],
   "metadata": {
    "collapsed": false
   }
  },
  {
   "cell_type": "markdown",
   "source": [
    "### Load A"
   ],
   "metadata": {
    "collapsed": false
   }
  },
  {
   "cell_type": "code",
   "execution_count": 2,
   "outputs": [],
   "source": [
    "# directory where data is stored\n",
    "datadir = '/Users/lindenmp/Google-Drive-Penn/work/research_projects/nctpy/data'\n",
    "resultsdir = '/Users/lindenmp/Google-Drive-Penn/work/research_projects/nctpy/results'\n",
    "A_file = 'pnc_schaefer200_Am.npy'"
   ],
   "metadata": {
    "collapsed": false,
    "pycharm": {
     "name": "#%%\n"
    }
   }
  },
  {
   "cell_type": "code",
   "execution_count": 3,
   "outputs": [
    {
     "name": "stdout",
     "output_type": "stream",
     "text": [
      "(200, 200)\n"
     ]
    }
   ],
   "source": [
    "# load A matrix\n",
    "A = np.load(os.path.join(datadir, A_file))\n",
    "n_nodes = A.shape[0]\n",
    "print(A.shape)"
   ],
   "metadata": {
    "collapsed": false,
    "pycharm": {
     "name": "#%%\n"
    }
   }
  },
  {
   "cell_type": "markdown",
   "source": [
    "### Get states"
   ],
   "metadata": {
    "collapsed": false
   }
  },
  {
   "cell_type": "code",
   "execution_count": 4,
   "outputs": [],
   "source": [
    "# load node-to-system mapping\n",
    "system_labels = list(np.loadtxt(os.path.join(datadir, 'pnc_schaefer200_system_labels.txt'),\n",
    "                                dtype=str))"
   ],
   "metadata": {
    "collapsed": false,
    "pycharm": {
     "name": "#%%\n"
    }
   }
  },
  {
   "cell_type": "code",
   "execution_count": 5,
   "outputs": [
    {
     "name": "stdout",
     "output_type": "stream",
     "text": [
      "200\n",
      "['Vis', 'Vis', 'Vis', 'Vis', 'Vis', 'Vis', 'Vis', 'Vis', 'Vis', 'Vis', 'Vis', 'Vis', 'Vis', 'Vis', 'SomMot', 'SomMot', 'SomMot', 'SomMot', 'SomMot', 'SomMot']\n"
     ]
    }
   ],
   "source": [
    "print(len(system_labels))\n",
    "print(system_labels[:20])"
   ],
   "metadata": {
    "collapsed": false,
    "pycharm": {
     "name": "#%%\n"
    }
   }
  },
  {
   "cell_type": "code",
   "execution_count": 6,
   "outputs": [],
   "source": [
    "# use list of system names to create states\n",
    "states, state_labels = convert_states_str2int(system_labels)"
   ],
   "metadata": {
    "collapsed": false,
    "pycharm": {
     "name": "#%%\n"
    }
   }
  },
  {
   "cell_type": "markdown",
   "source": [
    "### Setup control tasks"
   ],
   "metadata": {
    "collapsed": false
   }
  },
  {
   "cell_type": "code",
   "execution_count": 7,
   "outputs": [],
   "source": [
    "# initialize list of control tasks\n",
    "control_tasks = []\n",
    "\n",
    "# define control nodes using a uniform full control set\n",
    "# note, here we use the same control nodes for all control tasks\n",
    "B = np.eye(n_nodes)\n",
    "\n",
    "# define state trajectory constraint nodes.\n",
    "# note, here we constrain the full state trajectory equally for all control tasks\n",
    "S = np.eye(n_nodes)\n",
    "\n",
    "# define mixing parameter\n",
    "rho = 1\n",
    "\n",
    "# assemble control tasks\n",
    "n_states = len(state_labels)\n",
    "for i in np.arange(n_states):\n",
    "    x0 = states == i  # set initial state to ith state\n",
    "    x0 = normalize_state(x0)  # normalize state magnitude\n",
    "    for j in np.arange(n_states):\n",
    "        xf = states == j  # set target state to jth state\n",
    "        xf = normalize_state(xf)  # normalize state magnitude\n",
    "\n",
    "        control_task = dict()  # initialize dict\n",
    "        control_task['x0'] = x0  # store initial state\n",
    "        control_task['xf'] = xf  # store target state\n",
    "        control_task['B'] = B  # store control nodes\n",
    "        control_task['S'] = S  # store state trajectory constraints\n",
    "        control_task['rho'] = rho  # store rho\n",
    "        control_tasks.append(control_task)"
   ],
   "metadata": {
    "collapsed": false,
    "pycharm": {
     "name": "#%%\n"
    }
   }
  },
  {
   "cell_type": "markdown",
   "source": [
    "### Run ComputeControlEnergy"
   ],
   "metadata": {
    "collapsed": false
   }
  },
  {
   "cell_type": "code",
   "execution_count": 8,
   "outputs": [
    {
     "name": "stderr",
     "output_type": "stream",
     "text": [
      "100%|██████████| 49/49 [00:02<00:00, 23.58it/s]\n"
     ]
    }
   ],
   "source": [
    "# compute control energy across all control tasks\n",
    "compute_control_energy = ComputeControlEnergy(A=A,\n",
    "                                              control_tasks=control_tasks,\n",
    "                                              system='continuous',\n",
    "                                              c=1,\n",
    "                                              T=1)\n",
    "compute_control_energy.run()"
   ],
   "metadata": {
    "collapsed": false,
    "pycharm": {
     "name": "#%%\n"
    }
   }
  },
  {
   "cell_type": "markdown",
   "source": [
    "### Plot energy matrices"
   ],
   "metadata": {
    "collapsed": false
   }
  },
  {
   "cell_type": "code",
   "execution_count": 9,
   "outputs": [
    {
     "data": {
      "text/plain": "<Figure size 700x400 with 6 Axes>",
      "image/png": "[encoded data removed]"
     },
     "metadata": {},
     "output_type": "display_data"
    }
   ],
   "source": [
    "# reshape energy into matrix\n",
    "E = np.reshape(compute_control_energy.E, (n_states, n_states))\n",
    "\n",
    "# subtract lower triangle from upper to examine energy asymmetries\n",
    "Ed = E.transpose() - E\n",
    "\n",
    "f, ax = plt.subplots(1, 3, figsize=(7, 4))\n",
    "\n",
    "# plot energy matrix\n",
    "sns.heatmap(E, ax=ax[0], square=True, linewidth=0.5, cbar_kws={'label': 'energy', \"shrink\": 0.25})\n",
    "\n",
    "# plot without self-transitions\n",
    "# setup mask to exclude persistence energy (i.e., transitions where i==j)\n",
    "mask = np.zeros_like(E)\n",
    "mask[np.eye(n_states) == 1] = True\n",
    "sns.heatmap(E, ax=ax[1], square=True, linewidth=0.5, cbar_kws={'label': 'energy', \"shrink\": 0.25},\n",
    "            mask=mask)\n",
    "\n",
    "# plot energy asymmetries\n",
    "mask = np.triu(np.ones_like(E, dtype=bool))\n",
    "sns.heatmap(Ed, ax=ax[2], square=True, linewidth=0.5, cbar_kws={'label': 'energy (delta)', \"shrink\": 0.25},\n",
    "            mask=mask, cmap='RdBu_r', center=0)\n",
    "\n",
    "for cax in ax:\n",
    "    cax.set_ylabel('initial state (x0)')\n",
    "    cax.set_xlabel('target state (xf)')\n",
    "    # cax.set_yticklabels(np.arange(1, n_states+1))\n",
    "    # cax.set_xticklabels(np.arange(1, n_states+1))\n",
    "    cax.set_yticklabels(state_labels, rotation=0, size=6)\n",
    "    cax.set_xticklabels(state_labels, rotation=90, size=6)\n",
    "f.tight_layout()\n",
    "f.savefig(os.path.join(resultsdir, 'energy_matrix.svg'), dpi=600, bbox_inches='tight', pad_inches=0.01)\n",
    "plt.show()"
   ],
   "metadata": {
    "collapsed": false,
    "pycharm": {
     "name": "#%%\n"
    }
   }
  }
 ],
 "metadata": {
  "kernelspec": {
   "display_name": "Python 3",
   "language": "python",
   "name": "python3"
  },
  "language_info": {
   "codemirror_mode": {
    "name": "ipython",
    "version": 2
   },
   "file_extension": ".py",
   "mimetype": "text/x-python",
   "name": "python",
   "nbconvert_exporter": "python",
   "pygments_lexer": "ipython2",
   "version": "2.7.6"
  }
 },
 "nbformat": 4,
 "nbformat_minor": 0
}