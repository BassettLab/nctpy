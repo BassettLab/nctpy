{
 "cells": [
  {
   "cell_type": "code",
   "execution_count": 1,
   "metadata": {
    "ExecuteTime": {
     "end_time": "2023-07-17T06:31:18.650855Z",
     "start_time": "2023-07-17T06:31:18.458378Z"
    },
    "collapsed": false,
    "pycharm": {
     "name": "#%%\n"
    }
   },
   "outputs": [],
   "source": [
    "# import\n",
    "import os, sys\n",
    "import numpy as np\n",
    "import pandas as pd\n",
    "import scipy as sp\n",
    "from scipy import stats\n",
    "from scipy.spatial import distance\n",
    "from sklearn.cluster import KMeans\n",
    "from tqdm import tqdm\n",
    "\n",
    "# import plotting libraries\n",
    "import matplotlib.pyplot as plt\n",
    "import seaborn as sns\n",
    "from nilearn import datasets\n",
    "from nilearn import plotting\n",
    "\n",
    "# import nctpy functions\n",
    "sys.path.extend(['/Users/lindenmp/Google-Drive-Personal/work/research_projects/nctpy/src'])\n",
    "from nctpy.energies import integrate_u, get_control_inputs\n",
    "from nctpy.pipelines import ComputeControlEnergy, ComputeOptimizedControlEnergy\n",
    "from nctpy.metrics import ave_control\n",
    "from nctpy.utils import (\n",
    "    matrix_normalization,\n",
    "    convert_states_str2int,\n",
    "    normalize_state,\n",
    "    normalize_weights,\n",
    "    get_null_p,\n",
    "    get_fdr_p,\n",
    ")\n",
    "from nctpy.plotting import roi_to_vtx, null_plot, surface_plot, add_module_lines, set_plotting_params\n",
    "from null_models.geomsurr import geomsurr\n",
    "set_plotting_params()"
   ]
  },
  {
   "cell_type": "markdown",
   "metadata": {
    "collapsed": false
   },
   "source": [
    "# Wrapping Pathway A for ease of use"
   ]
  },
  {
   "cell_type": "markdown",
   "metadata": {
    "collapsed": false
   },
   "source": [
    "### Load adjacency"
   ]
  },
  {
   "cell_type": "code",
   "execution_count": 2,
   "metadata": {
    "ExecuteTime": {
     "end_time": "2023-07-17T06:31:18.652631Z",
     "start_time": "2023-07-17T06:31:18.651396Z"
    },
    "collapsed": false,
    "pycharm": {
     "name": "#%%\n"
    }
   },
   "outputs": [],
   "source": [
    "# directory where data is stored\n",
    "datadir = \"/Users/lindenmp/Google-Drive-Personal/work/research_projects/nctpy/data\"\n",
    "resultsdir = \"/Users/lindenmp/Google-Drive-Personal/work/research_projects/nctpy/results\"\n",
    "adjacency_file = \"pnc_schaefer200_Am.npy\""
   ]
  },
  {
   "cell_type": "code",
   "execution_count": 3,
   "metadata": {
    "ExecuteTime": {
     "end_time": "2023-07-17T06:31:18.655598Z",
     "start_time": "2023-07-17T06:31:18.653615Z"
    },
    "collapsed": false,
    "pycharm": {
     "name": "#%%\n"
    }
   },
   "outputs": [
    {
     "name": "stdout",
     "output_type": "stream",
     "text": [
      "(200, 200)\n"
     ]
    }
   ],
   "source": [
    "# load A matrix\n",
    "adjacency = np.load(os.path.join(datadir, adjacency_file))\n",
    "n_nodes = adjacency.shape[0]\n",
    "print(adjacency.shape)"
   ]
  },
  {
   "cell_type": "markdown",
   "metadata": {
    "collapsed": false
   },
   "source": [
    "### Get states"
   ]
  },
  {
   "cell_type": "code",
   "execution_count": 4,
   "metadata": {
    "ExecuteTime": {
     "end_time": "2023-07-17T06:31:18.658331Z",
     "start_time": "2023-07-17T06:31:18.656523Z"
    },
    "collapsed": false,
    "pycharm": {
     "name": "#%%\n"
    }
   },
   "outputs": [],
   "source": [
    "# load node-to-system mapping\n",
    "system_labels = list(\n",
    "    np.loadtxt(os.path.join(datadir, \"pnc_schaefer200_system_labels.txt\"), dtype=str)\n",
    ")"
   ]
  },
  {
   "cell_type": "code",
   "execution_count": 5,
   "metadata": {
    "ExecuteTime": {
     "end_time": "2023-07-17T06:31:18.660622Z",
     "start_time": "2023-07-17T06:31:18.658445Z"
    },
    "collapsed": false,
    "pycharm": {
     "name": "#%%\n"
    }
   },
   "outputs": [
    {
     "name": "stdout",
     "output_type": "stream",
     "text": [
      "200\n",
      "['Vis', 'Vis', 'Vis', 'Vis', 'Vis', 'Vis', 'Vis', 'Vis', 'Vis', 'Vis', 'Vis', 'Vis', 'Vis', 'Vis', 'SomMot', 'SomMot', 'SomMot', 'SomMot', 'SomMot', 'SomMot']\n"
     ]
    }
   ],
   "source": [
    "print(len(system_labels))\n",
    "print(system_labels[:20])"
   ]
  },
  {
   "cell_type": "code",
   "execution_count": 6,
   "metadata": {
    "ExecuteTime": {
     "end_time": "2023-07-17T06:31:18.662596Z",
     "start_time": "2023-07-17T06:31:18.661216Z"
    },
    "collapsed": false,
    "pycharm": {
     "name": "#%%\n"
    }
   },
   "outputs": [],
   "source": [
    "# use list of system names to create states\n",
    "states, state_labels = convert_states_str2int(system_labels)"
   ]
  },
  {
   "cell_type": "markdown",
   "metadata": {
    "collapsed": false
   },
   "source": [
    "### Setup control tasks"
   ]
  },
  {
   "cell_type": "code",
   "execution_count": 7,
   "metadata": {
    "ExecuteTime": {
     "end_time": "2023-07-17T06:31:18.666109Z",
     "start_time": "2023-07-17T06:31:18.664198Z"
    },
    "collapsed": false,
    "pycharm": {
     "name": "#%%\n"
    }
   },
   "outputs": [],
   "source": [
    "# initialize list of control tasks\n",
    "control_tasks = []\n",
    "\n",
    "# define control set using a uniform full control set\n",
    "# note, here we use the same control set for all control tasks\n",
    "control_set = np.eye(n_nodes)\n",
    "\n",
    "# define state trajectory constraints\n",
    "# note, here we constrain the full state trajectory equally for all control tasks\n",
    "trajectory_constraints = np.eye(n_nodes)\n",
    "\n",
    "# define mixing parameter\n",
    "# note, here we use the same rho for all control tasks\n",
    "rho = 1\n",
    "\n",
    "# assemble control tasks\n",
    "n_states = len(state_labels)\n",
    "for initial_idx in np.arange(n_states):\n",
    "    initial_state = normalize_state(states == initial_idx)  # initial state\n",
    "    for target_idx in np.arange(n_states):\n",
    "        target_state = normalize_state(states == target_idx)  # target state\n",
    "\n",
    "        control_task = dict()  # initialize dict\n",
    "        control_task[\"x0\"] = initial_state  # store initial state\n",
    "        control_task[\"xf\"] = target_state  # store target state\n",
    "        control_task[\"B\"] = control_set  # store control set\n",
    "        control_task[\"S\"] = trajectory_constraints  # store state trajectory constraints\n",
    "        control_task[\"rho\"] = rho  # store rho\n",
    "        control_tasks.append(control_task)"
   ]
  },
  {
   "cell_type": "markdown",
   "metadata": {
    "collapsed": false
   },
   "source": [
    "### Run ComputeControlEnergy"
   ]
  },
  {
   "cell_type": "code",
   "execution_count": 8,
   "metadata": {
    "ExecuteTime": {
     "end_time": "2023-07-17T06:31:24.616225Z",
     "start_time": "2023-07-17T06:31:18.669133Z"
    },
    "collapsed": false,
    "pycharm": {
     "name": "#%%\n"
    }
   },
   "outputs": [
    {
     "name": "stderr",
     "output_type": "stream",
     "text": [
      "100%|██████████| 49/49 [01:42<00:00,  2.09s/it]\n"
     ]
    }
   ],
   "source": [
    "# compute control energy across all control tasks\n",
    "compute_control_energy = ComputeControlEnergy(\n",
    "    A=adjacency, control_tasks=control_tasks, system=\"continuous\", c=1, T=1\n",
    ")\n",
    "compute_control_energy.run()"
   ]
  },
  {
   "cell_type": "markdown",
   "metadata": {
    "collapsed": false
   },
   "source": [
    "### Plot energy matrices"
   ]
  },
  {
   "cell_type": "code",
   "execution_count": 9,
   "metadata": {
    "ExecuteTime": {
     "end_time": "2023-07-17T06:31:25.203711Z",
     "start_time": "2023-07-17T06:31:24.626091Z"
    },
    "collapsed": false,
    "pycharm": {
     "name": "#%%\n"
    }
   },
   "outputs": [
    {
     "data": {
      "image/png": "[encoded data removed]",
      "text/plain": [
       "<Figure size 700x400 with 6 Axes>"
      ]
     },
     "metadata": {},
     "output_type": "display_data"
    }
   ],
   "source": [
    "# reshape energy into matrix\n",
    "energy_matrix = np.reshape(compute_control_energy.E, (n_states, n_states))\n",
    "\n",
    "# subtract lower triangle from upper to examine energy asymmetries\n",
    "energy_matrix_delta = energy_matrix.transpose() - energy_matrix\n",
    "\n",
    "f, ax = plt.subplots(1, 3, figsize=(7, 4))\n",
    "\n",
    "# plot energy matrix\n",
    "sns.heatmap(\n",
    "    energy_matrix,\n",
    "    ax=ax[0],\n",
    "    square=True,\n",
    "    linewidth=0.5,\n",
    "    cbar_kws={\"label\": \"energy\", \"shrink\": 0.25},\n",
    ")\n",
    "\n",
    "# plot without self-transitions\n",
    "# setup mask to exclude persistence energy (i.e., transitions where i==j)\n",
    "mask = np.zeros_like(energy_matrix)\n",
    "mask[np.eye(n_states) == 1] = True\n",
    "sns.heatmap(\n",
    "    energy_matrix,\n",
    "    ax=ax[1],\n",
    "    square=True,\n",
    "    linewidth=0.5,\n",
    "    cbar_kws={\"label\": \"energy\", \"shrink\": 0.25},\n",
    "    mask=mask,\n",
    ")\n",
    "\n",
    "# plot energy asymmetries\n",
    "mask = np.triu(np.ones_like(energy_matrix, dtype=bool))\n",
    "sns.heatmap(\n",
    "    energy_matrix_delta,\n",
    "    ax=ax[2],\n",
    "    square=True,\n",
    "    linewidth=0.5,\n",
    "    cbar_kws={\"label\": \"energy (delta)\", \"shrink\": 0.25},\n",
    "    mask=mask,\n",
    "    cmap=\"RdBu_r\",\n",
    "    center=0,\n",
    ")\n",
    "\n",
    "for cax in ax:\n",
    "    cax.set_ylabel(\"initial state (x0)\")\n",
    "    cax.set_xlabel(\"target state (xf)\")\n",
    "    cax.set_yticklabels(state_labels, rotation=0, size=6)\n",
    "    cax.set_xticklabels(state_labels, rotation=90, size=6)\n",
    "f.tight_layout()\n",
    "f.savefig(\n",
    "    os.path.join(resultsdir, \"energy_matrix.svg\"),\n",
    "    dpi=600,\n",
    "    bbox_inches=\"tight\",\n",
    "    pad_inches=0.01,\n",
    ")\n",
    "plt.show()"
   ]
  }
 ],
 "metadata": {
  "kernelspec": {
   "display_name": "Python 3",
   "language": "python",
   "name": "python3"
  },
  "language_info": {
   "codemirror_mode": {
    "name": "ipython",
    "version": 3
   },
   "file_extension": ".py",
   "mimetype": "text/x-python",
   "name": "python",
   "nbconvert_exporter": "python",
   "pygments_lexer": "ipython3",
   "version": "3.9.16"
  }
 },
 "nbformat": 4,
 "nbformat_minor": 0
}
