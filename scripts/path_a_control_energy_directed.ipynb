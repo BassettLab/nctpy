{
 "cells": [
  {
   "cell_type": "code",
   "execution_count": 1,
   "metadata": {
    "collapsed": true
   },
   "outputs": [],
   "source": [
    "# import\n",
    "import os\n",
    "import numpy as np\n",
    "import pandas as pd\n",
    "import scipy as sp\n",
    "from scipy import stats\n",
    "from scipy.spatial import distance\n",
    "from sklearn.cluster import KMeans\n",
    "from tqdm import tqdm\n",
    "\n",
    "# import plotting libraries\n",
    "import matplotlib.pyplot as plt\n",
    "plt.rcParams.update({'font.size': 10})\n",
    "plt.rcParams['svg.fonttype'] = 'none'\n",
    "import seaborn as sns\n",
    "from nilearn import datasets\n",
    "from nilearn import plotting\n",
    "\n",
    "# import network_control functions\n",
    "from network_control.energies import integrate_u, get_control_inputs\n",
    "from network_control.pipelines import ComputeControlEnergy, ComputeOptimizedControlEnergy\n",
    "from network_control.metrics import ave_control\n",
    "from network_control.utils import matrix_normalization, convert_states_str2float, normalize_state, normalize_weights, \\\n",
    "    get_null_p, get_fdr_p\n",
    "from network_control.plotting import roi_to_vtx, null_plot, surface_plot, add_module_lines\n",
    "from null_models.geomsurr import geomsurr"
   ]
  },
  {
   "cell_type": "markdown",
   "source": [
    "# Protocol Pathway A: Control Energy"
   ],
   "metadata": {
    "collapsed": false
   }
  },
  {
   "cell_type": "markdown",
   "source": [
    "### Load A"
   ],
   "metadata": {
    "collapsed": false
   }
  },
  {
   "cell_type": "code",
   "execution_count": 2,
   "outputs": [],
   "source": [
    "# directory where data is stored\n",
    "datadir = '/Users/lindenmp/Google-Drive-Penn/work/research_projects/control_package/data'\n",
    "resultsdir = '/Users/lindenmp/Google-Drive-Penn/work/research_projects/control_package/results'\n",
    "A_file = 'normalized_connection_strength_ipsi.csv'\n",
    "# A_file = 'connection_strength_ipsi.csv'"
   ],
   "metadata": {
    "collapsed": false,
    "pycharm": {
     "name": "#%%\n"
    }
   }
  },
  {
   "cell_type": "code",
   "execution_count": 3,
   "outputs": [
    {
     "name": "stdout",
     "output_type": "stream",
     "text": [
      "(43, 43)\n",
      "     Region  Class  Isocortex Isocortex_modules  sort_idx\n",
      "0      AUDv      0          1          Auditory        16\n",
      "1     AUDpo      0          1          Auditory        15\n",
      "2      AUDp      0          1          Auditory        14\n",
      "3      AUDd      0          1          Auditory        13\n",
      "4       ECT     12          1           Lateral        42\n",
      "5      PERI     12          1           Lateral        41\n",
      "6        GU     12          1           Lateral        11\n",
      "7       AId      0          1           Lateral        32\n",
      "8      VISC     12          1           Lateral        12\n",
      "9       AIv      0          1           Lateral        34\n",
      "10      TEa     12          1           Lateral        40\n",
      "11      AIp      0          1           Lateral        33\n",
      "12   RSPagl      0          1            Medial        35\n",
      "13     RSPd      0          1            Medial        36\n",
      "14     RSPv      0          1            Medial        37\n",
      "15     VISa      0          1            Medial        38\n",
      "16    VISam      0          1            Medial        18\n",
      "17    VISpm      0          1            Medial        22\n",
      "18    ORBvl      0          1               PFC        31\n",
      "19     ORBm      0          1               PFC        30\n",
      "20     ACAv      0          1               PFC        26\n",
      "21     ORBl      0          1               PFC        29\n",
      "22      ILA     12          1               PFC        28\n",
      "23       PL     12          1               PFC        27\n",
      "24     ACAd      0          1               PFC        25\n",
      "25      FRP     12          1               PFC         0\n",
      "26    SSp-m      0          1       Somatomotor         6\n",
      "27      MOp      0          1       Somatomotor         1\n",
      "28      MOs      0          1       Somatomotor         2\n",
      "29      SSs      0          1       Somatomotor        10\n",
      "30   SSp-un      0          1       Somatomotor         9\n",
      "31   SSp-tr      0          1       Somatomotor         8\n",
      "32   SSp-ul      0          1       Somatomotor         7\n",
      "33    SSp-n      0          1       Somatomotor         3\n",
      "34   SSp-ll      0          1       Somatomotor         5\n",
      "35  SSp-bfd      0          1       Somatomotor         4\n",
      "36    VISrl      0          1            Visual        39\n",
      "37    VISli      0          1            Visual        23\n",
      "38    VISal      0          1            Visual        17\n",
      "39     VISl      0          1            Visual        19\n",
      "40     VISp      0          1            Visual        20\n",
      "41   VISpor      0          1            Visual        24\n",
      "42    VISpl      0          1            Visual        21\n"
     ]
    }
   ],
   "source": [
    "# load A matrix\n",
    "A = np.loadtxt(os.path.join(datadir, A_file), dtype=float, delimiter=',', encoding='utf-8-sig')\n",
    "A = A.T  # set rows=tagets and columns=sources. That is, Aij = edge from node j to node i\n",
    "\n",
    "# load region class\n",
    "region_class = pd.read_csv(os.path.join(datadir, 'region_class.csv'))\n",
    "\n",
    "# retain isocortex\n",
    "idx = region_class['Isocortex'] == 1\n",
    "# subset A\n",
    "A = A[region_class[idx].index, :][:, region_class[idx].index]\n",
    "n_nodes = A.shape[0]\n",
    "print(A.shape)\n",
    "# subset region_class\n",
    "region_class = region_class[idx]\n",
    "\n",
    "# sort on Isocortex_modules\n",
    "region_class.reset_index(inplace=True, drop=True)\n",
    "region_class['sort_idx'] = region_class.index\n",
    "region_class.sort_values('Isocortex_modules', inplace=True)\n",
    "region_class.reset_index(inplace=True, drop=True)\n",
    "# sort A to match\n",
    "A = A[region_class.sort_idx, :][:, region_class.sort_idx]\n",
    "\n",
    "print(region_class)"
   ],
   "metadata": {
    "collapsed": false,
    "pycharm": {
     "name": "#%%\n"
    }
   }
  },
  {
   "cell_type": "markdown",
   "source": [
    "### Plot A"
   ],
   "metadata": {
    "collapsed": false,
    "pycharm": {
     "name": "#%% md\n"
    }
   }
  },
  {
   "cell_type": "code",
   "execution_count": 4,
   "outputs": [
    {
     "name": "stdout",
     "output_type": "stream",
     "text": [
      "['Auditory' 'Lateral' 'Medial' 'PFC' 'Somatomotor' 'Visual']\n"
     ]
    },
    {
     "data": {
      "text/plain": "<Figure size 800x800 with 2 Axes>",
      "image/png": "[encoded data removed]"
     },
     "metadata": {},
     "output_type": "display_data"
    }
   ],
   "source": [
    "# plot A matrix\n",
    "f, ax = plt.subplots(figsize=(8, 8))\n",
    "sns.heatmap(np.log10(A), ax=ax, square=True, cmap='inferno',\n",
    "            xticklabels=region_class.Region, yticklabels=region_class.Region,\n",
    "            cbar_kws={'label': 'log10(connection strength)'})\n",
    "ax.set_xticklabels(ax.get_xmajorticklabels(), fontsize=7)\n",
    "ax.set_yticklabels(ax.get_ymajorticklabels(), fontsize=7)\n",
    "add_module_lines(region_class['Isocortex_modules'], ax)\n",
    "plt.show()"
   ],
   "metadata": {
    "collapsed": false,
    "pycharm": {
     "name": "#%%\n"
    }
   }
  },
  {
   "cell_type": "markdown",
   "source": [
    "### Assign isocortex to DMN based on Whitesell 2021 Neuron"
   ],
   "metadata": {
    "collapsed": false,
    "pycharm": {
     "name": "#%% md\n"
    }
   }
  },
  {
   "cell_type": "code",
   "execution_count": 5,
   "outputs": [
    {
     "name": "stdout",
     "output_type": "stream",
     "text": [
      "     Region  Class  Isocortex Isocortex_modules  sort_idx    DMN sytem_labels\n",
      "0      AUDv      0          1          Auditory        16  False     Auditory\n",
      "1     AUDpo      0          1          Auditory        15  False     Auditory\n",
      "2      AUDp      0          1          Auditory        14  False     Auditory\n",
      "3      AUDd      0          1          Auditory        13  False     Auditory\n",
      "4       ECT     12          1           Lateral        42  False      Lateral\n",
      "5      PERI     12          1           Lateral        41  False      Lateral\n",
      "6        GU     12          1           Lateral        11  False      Lateral\n",
      "7       AId      0          1           Lateral        32  False      Lateral\n",
      "8      VISC     12          1           Lateral        12  False      Lateral\n",
      "9       AIv      0          1           Lateral        34  False      Lateral\n",
      "10      TEa     12          1           Lateral        40  False      Lateral\n",
      "11      AIp      0          1           Lateral        33  False      Lateral\n",
      "12   RSPagl      0          1            Medial        35   True          DMN\n",
      "13     RSPd      0          1            Medial        36   True          DMN\n",
      "14     RSPv      0          1            Medial        37   True          DMN\n",
      "15     VISa      0          1            Medial        38   True          DMN\n",
      "16    VISam      0          1            Medial        18   True          DMN\n",
      "17    VISpm      0          1            Medial        22  False       Medial\n",
      "18    ORBvl      0          1               PFC        31   True          DMN\n",
      "19     ORBm      0          1               PFC        30   True          DMN\n",
      "20     ACAv      0          1               PFC        26   True          DMN\n",
      "21     ORBl      0          1               PFC        29   True          DMN\n",
      "22      ILA     12          1               PFC        28   True          DMN\n",
      "23       PL     12          1               PFC        27   True          DMN\n",
      "24     ACAd      0          1               PFC        25   True          DMN\n",
      "25      FRP     12          1               PFC         0  False          PFC\n",
      "26    SSp-m      0          1       Somatomotor         6  False  Somatomotor\n",
      "27      MOp      0          1       Somatomotor         1  False  Somatomotor\n",
      "28      MOs      0          1       Somatomotor         2   True          DMN\n",
      "29      SSs      0          1       Somatomotor        10  False  Somatomotor\n",
      "30   SSp-un      0          1       Somatomotor         9  False  Somatomotor\n",
      "31   SSp-tr      0          1       Somatomotor         8   True          DMN\n",
      "32   SSp-ul      0          1       Somatomotor         7  False  Somatomotor\n",
      "33    SSp-n      0          1       Somatomotor         3  False  Somatomotor\n",
      "34   SSp-ll      0          1       Somatomotor         5   True          DMN\n",
      "35  SSp-bfd      0          1       Somatomotor         4  False  Somatomotor\n",
      "36    VISrl      0          1            Visual        39  False       Visual\n",
      "37    VISli      0          1            Visual        23  False       Visual\n",
      "38    VISal      0          1            Visual        17  False       Visual\n",
      "39     VISl      0          1            Visual        19  False       Visual\n",
      "40     VISp      0          1            Visual        20  False       Visual\n",
      "41   VISpor      0          1            Visual        24  False       Visual\n",
      "42    VISpl      0          1            Visual        21  False       Visual\n"
     ]
    },
    {
     "name": "stderr",
     "output_type": "stream",
     "text": [
      "/var/folders/8_/z_xhkpg925n0zp0dl0yrqmy80000gn/T/ipykernel_84512/3069633426.py:16: SettingWithCopyWarning: \n",
      "A value is trying to be set on a copy of a slice from a DataFrame\n",
      "\n",
      "See the caveats in the documentation: https://pandas.pydata.org/pandas-docs/stable/user_guide/indexing.html#returning-a-view-versus-a-copy\n",
      "  region_class['sytem_labels'][region_class['DMN']] = 'DMN'\n"
     ]
    }
   ],
   "source": [
    "# Whitesell DMN regions\n",
    "dmn_regions = [\n",
    "    'ACAd', 'ACAv', 'PL', 'ILA', 'ORBl', 'ORBm', 'ORBvl',\n",
    "    'VISa', 'VISam', 'RSPagl', 'RSPd', 'RSPv',\n",
    "    'SSp-tr', 'SSp-ll', 'MOs'\n",
    "]\n",
    "\n",
    "region_class.set_index('Region', inplace=True)\n",
    "region_class['DMN'] = np.zeros(n_nodes).astype(bool)\n",
    "for idx in dmn_regions:\n",
    "    region_class.loc[idx, 'DMN'] = True\n",
    "region_class.reset_index(inplace=True, drop=False)\n",
    "\n",
    "# create new system labels column that uses DMN to overwrite existing modules\n",
    "region_class['sytem_labels'] = region_class['Isocortex_modules']\n",
    "region_class['sytem_labels'][region_class['DMN']] = 'DMN'\n",
    "\n",
    "print(region_class)"
   ],
   "metadata": {
    "collapsed": false,
    "pycharm": {
     "name": "#%%\n"
    }
   }
  },
  {
   "cell_type": "markdown",
   "source": [
    "### Get states"
   ],
   "metadata": {
    "collapsed": false
   }
  },
  {
   "cell_type": "code",
   "execution_count": 6,
   "outputs": [],
   "source": [
    "# get system labels\n",
    "system_labels = list(region_class['sytem_labels'])"
   ],
   "metadata": {
    "collapsed": false,
    "pycharm": {
     "name": "#%%\n"
    }
   }
  },
  {
   "cell_type": "code",
   "execution_count": 7,
   "outputs": [
    {
     "name": "stdout",
     "output_type": "stream",
     "text": [
      "43\n",
      "['Auditory', 'Auditory', 'Auditory', 'Auditory', 'Lateral', 'Lateral', 'Lateral', 'Lateral', 'Lateral', 'Lateral', 'Lateral', 'Lateral', 'DMN', 'DMN', 'DMN', 'DMN', 'DMN', 'Medial', 'DMN', 'DMN']\n"
     ]
    }
   ],
   "source": [
    "print(len(system_labels))\n",
    "print(system_labels[:20])"
   ],
   "metadata": {
    "collapsed": false,
    "pycharm": {
     "name": "#%%\n"
    }
   }
  },
  {
   "cell_type": "code",
   "execution_count": 8,
   "outputs": [],
   "source": [
    "# use list of system names to create states\n",
    "states, state_labels = convert_states_str2float(system_labels)"
   ],
   "metadata": {
    "collapsed": false,
    "pycharm": {
     "name": "#%%\n"
    }
   }
  },
  {
   "cell_type": "markdown",
   "source": [
    "### Setup control tasks"
   ],
   "metadata": {
    "collapsed": false
   }
  },
  {
   "cell_type": "code",
   "execution_count": 9,
   "outputs": [],
   "source": [
    "# initialize list of control tasks\n",
    "control_tasks = []\n",
    "\n",
    "# define control nodes using a uniform full control set\n",
    "# note, here we use the same control nodes for all control tasks\n",
    "B = np.eye(n_nodes)\n",
    "\n",
    "# define state trajectory constraint nodes.\n",
    "# note, here we constrain the full state trajectory equally for all control tasks\n",
    "S = np.eye(n_nodes)\n",
    "\n",
    "# define mixing parameter\n",
    "rho = 1\n",
    "\n",
    "x0 = states == state_labels.index('DMN')\n",
    "x0 = normalize_state(x0)  # normalize state magnitude\n",
    "\n",
    "# assemble control tasks\n",
    "for i in ['Lateral', 'Visual', 'Auditory']:\n",
    "    xf = states == state_labels.index(i)\n",
    "    xf = normalize_state(xf)  # normalize state magnitude\n",
    "\n",
    "    # i to j\n",
    "    control_task = dict()  # initialize dict\n",
    "    control_task['x0'] = x0  # store initial state\n",
    "    control_task['xf'] = xf  # store target state\n",
    "    control_task['B'] = B  # store control nodes\n",
    "    control_task['S'] = S  # store state trajectory constraints\n",
    "    control_task['rho'] = rho  # store rho\n",
    "    control_tasks.append(control_task)\n",
    "\n",
    "    # j back to i\n",
    "    control_task = dict()  # initialize dict\n",
    "    control_task['x0'] = xf  # store initial state\n",
    "    control_task['xf'] = x0  # store target state\n",
    "    control_task['B'] = B  # store control nodes\n",
    "    control_task['S'] = S  # store state trajectory constraints\n",
    "    control_task['rho'] = rho  # store rho\n",
    "    control_tasks.append(control_task)"
   ],
   "metadata": {
    "collapsed": false,
    "pycharm": {
     "name": "#%%\n"
    }
   }
  },
  {
   "cell_type": "markdown",
   "source": [
    "### Run ComputeControlEnergy"
   ],
   "metadata": {
    "collapsed": false
   }
  },
  {
   "cell_type": "code",
   "execution_count": 10,
   "outputs": [
    {
     "name": "stderr",
     "output_type": "stream",
     "text": [
      "100%|██████████| 6/6 [00:00<00:00, 87.16it/s]"
     ]
    },
    {
     "name": "stdout",
     "output_type": "stream",
     "text": [
      "[[2724.37609829 1944.85054695]\n",
      " [2406.76108952 2211.65778753]\n",
      " [2437.44752492 2081.29461031]]\n",
      "[-779.52555135 -195.10330199 -356.15291461]\n"
     ]
    },
    {
     "name": "stderr",
     "output_type": "stream",
     "text": [
      "\n"
     ]
    }
   ],
   "source": [
    "# compute control energy across all control tasks\n",
    "compute_control_energy = ComputeControlEnergy(A=A,\n",
    "                                              control_tasks=control_tasks,\n",
    "                                              system='continuous',\n",
    "                                              c=1,\n",
    "                                              T=1)\n",
    "compute_control_energy.run()\n",
    "\n",
    "# reshape to set DMN-to-X on first column and X-to-DMN on second column\n",
    "E = np.reshape(compute_control_energy.E, (3, 2))  # reshape energy\n",
    "E_d = E[:, 1] - E[:, 0]  # get energy asymmetries\n",
    "print(E)\n",
    "print(E_d)"
   ],
   "metadata": {
    "collapsed": false,
    "pycharm": {
     "name": "#%%\n"
    }
   }
  },
  {
   "cell_type": "markdown",
   "source": [
    "### Re-run ComputeControlEnergy using symmetric mouse connectome"
   ],
   "metadata": {
    "collapsed": false
   }
  },
  {
   "cell_type": "code",
   "execution_count": 11,
   "outputs": [
    {
     "name": "stderr",
     "output_type": "stream",
     "text": [
      "100%|██████████| 6/6 [00:00<00:00, 115.40it/s]"
     ]
    },
    {
     "name": "stdout",
     "output_type": "stream",
     "text": [
      "[[2633.70888488 1970.22073773]\n",
      " [2312.00442949 2128.9371374 ]\n",
      " [2370.82526775 2100.39764887]]\n",
      "[-663.48814714 -183.06729209 -270.42761888]\n"
     ]
    },
    {
     "name": "stderr",
     "output_type": "stream",
     "text": [
      "\n"
     ]
    }
   ],
   "source": [
    "As = A + A.T  # symmetrize mouse connectome\n",
    "\n",
    "# compute control energy across all control tasks\n",
    "compute_control_energy = ComputeControlEnergy(A=As,\n",
    "                                              control_tasks=control_tasks,\n",
    "                                              system='continuous',\n",
    "                                              c=1,\n",
    "                                              T=1)\n",
    "compute_control_energy.run()\n",
    "\n",
    "# reshape to set DMN-to-X on first column and X-to-DMN on second column\n",
    "E_As = np.reshape(compute_control_energy.E, (3, 2))  # reshape energy\n",
    "E_As_d = E_As[:, 1] - E_As[:, 0]  # get energy asymmetries\n",
    "print(E_As)\n",
    "print(E_As_d)"
   ],
   "metadata": {
    "collapsed": false,
    "pycharm": {
     "name": "#%%\n"
    }
   }
  },
  {
   "cell_type": "code",
   "execution_count": 12,
   "outputs": [
    {
     "name": "stdout",
     "output_type": "stream",
     "text": [
      "[116.0374042   12.0360099   85.72529573]\n",
      "[15.0, 6.0, 24.0]\n"
     ]
    }
   ],
   "source": [
    "# get differences in energy asymmetries between directed and undirected connectome\n",
    "asym_dif = np.abs(E_d) - np.abs(E_As_d)\n",
    "print(asym_dif)\n",
    "\n",
    "# get percent change in energy asymmetries\n",
    "def perc_change(x, y):\n",
    "    return np.round((y - x) / np.abs(x) * 100)\n",
    "\n",
    "asym_dif_perc = []\n",
    "for i in np.arange(len(asym_dif)):\n",
    "    asym_dif_perc.append(perc_change(E_d[i], E_As_d[i]))\n",
    "print(asym_dif_perc)"
   ],
   "metadata": {
    "collapsed": false,
    "pycharm": {
     "name": "#%%\n"
    }
   }
  },
  {
   "cell_type": "markdown",
   "source": [
    "## Plot results"
   ],
   "metadata": {
    "collapsed": false,
    "pycharm": {
     "name": "#%% md\n"
    }
   }
  },
  {
   "cell_type": "code",
   "execution_count": 13,
   "outputs": [
    {
     "data": {
      "text/plain": "<Figure size 700x500 with 2 Axes>",
      "image/png": "[encoded data removed]"
     },
     "metadata": {},
     "output_type": "display_data"
    }
   ],
   "source": [
    "cmap = sns.color_palette(\"Set2\")\n",
    "\n",
    "labels = ['Lateral', 'Visual', 'Auditory']\n",
    "x = np.arange(len(labels))  # the label locations\n",
    "width = 0.3  # the width of the bars\n",
    "\n",
    "f, ax = plt.subplots(1, 2, figsize=(7, 5))\n",
    "\n",
    "# directed adjacency matrix\n",
    "rects1 = ax[0].bar(x - width, E[:, 0], color=cmap[0], width=width, label='From DMN')\n",
    "rects2 = ax[0].bar(x, E[:, 1], color=cmap[1], width=width, label='To DMN')\n",
    "rects3 = ax[0].bar(x + width, np.abs(E_d), color=cmap[3], width=width, label='Asymmetry (abs.)')\n",
    "\n",
    "ax[0].set_title('A | Directed connectome')\n",
    "ax[0].set_ylabel('Control energy')\n",
    "ax[0].set_xticks(x, labels)\n",
    "ax[0].legend(bbox_to_anchor=(0.5, -0.5), loc='lower center')\n",
    "ax[0].set_ylim([0, 3000])\n",
    "\n",
    "ax[0].bar_label(rects1, padding=3, fmt='%i', size=7)\n",
    "ax[0].bar_label(rects2, padding=3, fmt='%i', size=7)\n",
    "ax[0].bar_label(rects3, padding=3, fmt='%i', size=7)\n",
    "\n",
    "# undirected adjacency matrix\n",
    "rects1 = ax[1].bar(x - width, E_As[:, 0], color=cmap[0], width=width, label='From DMN')\n",
    "rects2 = ax[1].bar(x, E_As[:, 1], color=cmap[1], width=width, label='To DMN')\n",
    "rects3 = ax[1].bar(x + width, np.abs(E_As_d), color=cmap[3], width=width, label='Asymmetry (abs.)')\n",
    "\n",
    "ax[1].set_title('B | Undirected connectome')\n",
    "ax[1].set_ylabel('Control energy')\n",
    "ax[1].set_xticks(x, labels)\n",
    "# ax[1].legend(bbox_to_anchor=(0.5, 1.1), loc='upper center', ncol=len(labels))\n",
    "ax[1].set_ylim([0, 3000])\n",
    "\n",
    "ax[1].bar_label(rects1, padding=3, fmt='%i', size=7)\n",
    "ax[1].bar_label(rects2, padding=3, fmt='%i', size=7)\n",
    "ax[1].bar_label(rects3, padding=3, fmt='%i', size=7)\n",
    "\n",
    "f.tight_layout()\n",
    "f.savefig(os.path.join(resultsdir, 'mouse_energy.svg'), dpi=600, bbox_inches='tight', pad_inches=0.01)\n",
    "plt.show()\n"
   ],
   "metadata": {
    "collapsed": false,
    "pycharm": {
     "name": "#%%\n"
    }
   }
  }
 ],
 "metadata": {
  "kernelspec": {
   "display_name": "Python 3",
   "language": "python",
   "name": "python3"
  },
  "language_info": {
   "codemirror_mode": {
    "name": "ipython",
    "version": 2
   },
   "file_extension": ".py",
   "mimetype": "text/x-python",
   "name": "python",
   "nbconvert_exporter": "python",
   "pygments_lexer": "ipython2",
   "version": "2.7.6"
  }
 },
 "nbformat": 4,
 "nbformat_minor": 0
}