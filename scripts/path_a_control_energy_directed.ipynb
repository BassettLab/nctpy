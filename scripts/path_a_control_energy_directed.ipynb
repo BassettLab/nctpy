{
 "cells": [
  {
   "cell_type": "code",
   "execution_count": 1,
   "metadata": {
    "ExecuteTime": {
     "end_time": "2023-07-25T15:48:29.391968Z",
     "start_time": "2023-07-25T15:48:29.050955Z"
    },
    "collapsed": true
   },
   "outputs": [],
   "source": [
    "# import\n",
    "import os, sys\n",
    "import numpy as np\n",
    "import pandas as pd\n",
    "import scipy as sp\n",
    "from scipy import stats\n",
    "from scipy.spatial import distance\n",
    "from sklearn.cluster import KMeans\n",
    "from tqdm import tqdm\n",
    "\n",
    "# import plotting libraries\n",
    "import matplotlib.pyplot as plt\n",
    "import seaborn as sns\n",
    "from nilearn import datasets\n",
    "from nilearn import plotting\n",
    "\n",
    "# import nctpy functions\n",
    "sys.path.extend(['/Users/lindenmp/Google-Drive-Personal/work/research_projects/nctpy/src'])\n",
    "from nctpy.energies import integrate_u, get_control_inputs\n",
    "from nctpy.pipelines import ComputeControlEnergy, ComputeOptimizedControlEnergy\n",
    "from nctpy.metrics import ave_control\n",
    "from nctpy.utils import (\n",
    "    matrix_normalization,\n",
    "    convert_states_str2int,\n",
    "    normalize_state,\n",
    "    normalize_weights,\n",
    "    get_null_p,\n",
    "    get_fdr_p,\n",
    ")\n",
    "from nctpy.plotting import roi_to_vtx, null_plot, surface_plot, add_module_lines, set_plotting_params\n",
    "from null_models.geomsurr import geomsurr\n",
    "set_plotting_params()"
   ]
  },
  {
   "cell_type": "markdown",
   "metadata": {
    "collapsed": false
   },
   "source": [
    "# Protocol Pathway A: Control Energy"
   ]
  },
  {
   "cell_type": "markdown",
   "metadata": {
    "collapsed": false
   },
   "source": [
    "### Load adjacency"
   ]
  },
  {
   "cell_type": "code",
   "execution_count": 2,
   "metadata": {
    "ExecuteTime": {
     "end_time": "2023-07-25T15:48:29.394030Z",
     "start_time": "2023-07-25T15:48:29.392601Z"
    },
    "collapsed": false,
    "pycharm": {
     "name": "#%%\n"
    }
   },
   "outputs": [],
   "source": [
    "# directory where data is stored\n",
    "datadir = \"/Users/lindenmp/Google-Drive-Personal/work/research_projects/nctpy/data\"\n",
    "resultsdir = \"/Users/lindenmp/Google-Drive-Personal/work/research_projects/nctpy/results\"\n",
    "adjacency_file = \"normalized_connection_strength_ipsi.csv\"\n",
    "# adjacency_file = 'connection_strength_ipsi.csv'"
   ]
  },
  {
   "cell_type": "code",
   "execution_count": 3,
   "metadata": {
    "ExecuteTime": {
     "end_time": "2023-07-25T15:48:29.415483Z",
     "start_time": "2023-07-25T15:48:29.395934Z"
    },
    "collapsed": false,
    "pycharm": {
     "name": "#%%\n"
    }
   },
   "outputs": [
    {
     "name": "stdout",
     "output_type": "stream",
     "text": [
      "(43, 43)\n",
      "1.0\n",
      "     Region  Class  Isocortex Isocortex_modules  sort_idx\n",
      "0      AUDv      0          1          Auditory        16\n",
      "1     AUDpo      0          1          Auditory        15\n",
      "2      AUDp      0          1          Auditory        14\n",
      "3      AUDd      0          1          Auditory        13\n",
      "4       ECT     12          1           Lateral        42\n",
      "5      PERI     12          1           Lateral        41\n",
      "6        GU     12          1           Lateral        11\n",
      "7       AId      0          1           Lateral        32\n",
      "8      VISC     12          1           Lateral        12\n",
      "9       AIv      0          1           Lateral        34\n",
      "10      TEa     12          1           Lateral        40\n",
      "11      AIp      0          1           Lateral        33\n",
      "12   RSPagl      0          1            Medial        35\n",
      "13     RSPd      0          1            Medial        36\n",
      "14     RSPv      0          1            Medial        37\n",
      "15     VISa      0          1            Medial        38\n",
      "16    VISam      0          1            Medial        18\n",
      "17    VISpm      0          1            Medial        22\n",
      "18    ORBvl      0          1               PFC        31\n",
      "19     ORBm      0          1               PFC        30\n",
      "20     ACAv      0          1               PFC        26\n",
      "21     ORBl      0          1               PFC        29\n",
      "22      ILA     12          1               PFC        28\n",
      "23       PL     12          1               PFC        27\n",
      "24     ACAd      0          1               PFC        25\n",
      "25      FRP     12          1               PFC         0\n",
      "26    SSp-m      0          1       Somatomotor         6\n",
      "27      MOp      0          1       Somatomotor         1\n",
      "28      MOs      0          1       Somatomotor         2\n",
      "29      SSs      0          1       Somatomotor        10\n",
      "30   SSp-un      0          1       Somatomotor         9\n",
      "31   SSp-tr      0          1       Somatomotor         8\n",
      "32   SSp-ul      0          1       Somatomotor         7\n",
      "33    SSp-n      0          1       Somatomotor         3\n",
      "34   SSp-ll      0          1       Somatomotor         5\n",
      "35  SSp-bfd      0          1       Somatomotor         4\n",
      "36    VISrl      0          1            Visual        39\n",
      "37    VISli      0          1            Visual        23\n",
      "38    VISal      0          1            Visual        17\n",
      "39     VISl      0          1            Visual        19\n",
      "40     VISp      0          1            Visual        20\n",
      "41   VISpor      0          1            Visual        24\n",
      "42    VISpl      0          1            Visual        21\n"
     ]
    }
   ],
   "source": [
    "# load adjacency matrix\n",
    "adjacency = np.loadtxt(os.path.join(datadir, adjacency_file), dtype=float, delimiter=\",\", encoding=\"utf-8-sig\")\n",
    "adjacency = adjacency.T  # set rows=tagets and columns=sources. That is, Aij = edge from node j to node i\n",
    "\n",
    "# load region class\n",
    "region_class = pd.read_csv(os.path.join(datadir, \"region_class.csv\"))\n",
    "\n",
    "# retain isocortex\n",
    "idx = region_class[\"Isocortex\"] == 1\n",
    "# subset adjacency\n",
    "adjacency = adjacency[region_class[idx].index, :][:, region_class[idx].index]\n",
    "n_nodes = adjacency.shape[0]\n",
    "print(adjacency.shape)\n",
    "\n",
    "# get density including self connections\n",
    "density = np.count_nonzero(adjacency) / adjacency.shape[0] ** 2\n",
    "print(density)\n",
    "\n",
    "# subset region_class\n",
    "region_class = region_class[idx]\n",
    "\n",
    "# sort on Isocortex_modules\n",
    "region_class.reset_index(inplace=True, drop=True)\n",
    "region_class[\"sort_idx\"] = region_class.index\n",
    "region_class.sort_values(\"Isocortex_modules\", inplace=True)\n",
    "region_class.reset_index(inplace=True, drop=True)\n",
    "# sort adjacency to match\n",
    "adjacency = adjacency[region_class.sort_idx, :][:, region_class.sort_idx]\n",
    "\n",
    "print(region_class)"
   ]
  },
  {
   "cell_type": "markdown",
   "metadata": {
    "collapsed": false,
    "pycharm": {
     "name": "#%% md\n"
    }
   },
   "source": [
    "### Plot adjacency"
   ]
  },
  {
   "cell_type": "code",
   "execution_count": 4,
   "metadata": {
    "ExecuteTime": {
     "end_time": "2023-07-25T15:48:30.139868Z",
     "start_time": "2023-07-25T15:48:29.416114Z"
    },
    "collapsed": false,
    "pycharm": {
     "name": "#%%\n"
    }
   },
   "outputs": [
    {
     "name": "stdout",
     "output_type": "stream",
     "text": [
      "['Auditory' 'Lateral' 'Medial' 'PFC' 'Somatomotor' 'Visual']\n"
     ]
    },
    {
     "data": {
      "image/png": "[encoded data removed]",
      "text/plain": [
       "<Figure size 600x600 with 2 Axes>"
      ]
     },
     "metadata": {},
     "output_type": "display_data"
    }
   ],
   "source": [
    "# plot adjacency matrix\n",
    "f, ax = plt.subplots(figsize=(6, 6))\n",
    "sns.heatmap(\n",
    "    np.log10(adjacency),\n",
    "    ax=ax,\n",
    "    square=True,\n",
    "    cmap=\"inferno\",\n",
    "    xticklabels=region_class.Region,\n",
    "    yticklabels=region_class.Region,\n",
    "    cbar_kws={\"label\": \"log10(connection strength)\", \"shrink\": 0.8},\n",
    ")\n",
    "ax.set_xticklabels(ax.get_xmajorticklabels(), fontsize=7)\n",
    "ax.set_yticklabels(ax.get_ymajorticklabels(), fontsize=7)\n",
    "add_module_lines(region_class[\"Isocortex_modules\"], ax)\n",
    "f.savefig(\n",
    "    os.path.join(resultsdir, \"mouse_connectome.png\"),\n",
    "    dpi=600,\n",
    "    bbox_inches=\"tight\",\n",
    "    pad_inches=0.01,\n",
    ")\n",
    "plt.show()"
   ]
  },
  {
   "cell_type": "markdown",
   "metadata": {
    "collapsed": false,
    "pycharm": {
     "name": "#%% md\n"
    }
   },
   "source": [
    "### Assign isocortex to DMN based on Whitesell 2021 Neuron"
   ]
  },
  {
   "cell_type": "code",
   "execution_count": 5,
   "metadata": {
    "ExecuteTime": {
     "end_time": "2023-07-25T15:48:30.145592Z",
     "start_time": "2023-07-25T15:48:30.143873Z"
    },
    "collapsed": false,
    "pycharm": {
     "name": "#%%\n"
    }
   },
   "outputs": [
    {
     "name": "stdout",
     "output_type": "stream",
     "text": [
      "     Region  Class  Isocortex Isocortex_modules  sort_idx    DMN system_labels\n",
      "0      AUDv      0          1          Auditory        16  False      Auditory\n",
      "1     AUDpo      0          1          Auditory        15  False      Auditory\n",
      "2      AUDp      0          1          Auditory        14  False      Auditory\n",
      "3      AUDd      0          1          Auditory        13  False      Auditory\n",
      "4       ECT     12          1           Lateral        42  False       Lateral\n",
      "5      PERI     12          1           Lateral        41  False       Lateral\n",
      "6        GU     12          1           Lateral        11  False       Lateral\n",
      "7       AId      0          1           Lateral        32  False       Lateral\n",
      "8      VISC     12          1           Lateral        12  False       Lateral\n",
      "9       AIv      0          1           Lateral        34  False       Lateral\n",
      "10      TEa     12          1           Lateral        40  False       Lateral\n",
      "11      AIp      0          1           Lateral        33  False       Lateral\n",
      "12   RSPagl      0          1            Medial        35   True           DMN\n",
      "13     RSPd      0          1            Medial        36   True           DMN\n",
      "14     RSPv      0          1            Medial        37   True           DMN\n",
      "15     VISa      0          1            Medial        38   True           DMN\n",
      "16    VISam      0          1            Medial        18   True           DMN\n",
      "17    VISpm      0          1            Medial        22  False        Medial\n",
      "18    ORBvl      0          1               PFC        31   True           DMN\n",
      "19     ORBm      0          1               PFC        30   True           DMN\n",
      "20     ACAv      0          1               PFC        26   True           DMN\n",
      "21     ORBl      0          1               PFC        29   True           DMN\n",
      "22      ILA     12          1               PFC        28   True           DMN\n",
      "23       PL     12          1               PFC        27   True           DMN\n",
      "24     ACAd      0          1               PFC        25   True           DMN\n",
      "25      FRP     12          1               PFC         0  False           PFC\n",
      "26    SSp-m      0          1       Somatomotor         6  False   Somatomotor\n",
      "27      MOp      0          1       Somatomotor         1  False   Somatomotor\n",
      "28      MOs      0          1       Somatomotor         2   True           DMN\n",
      "29      SSs      0          1       Somatomotor        10  False   Somatomotor\n",
      "30   SSp-un      0          1       Somatomotor         9  False   Somatomotor\n",
      "31   SSp-tr      0          1       Somatomotor         8   True           DMN\n",
      "32   SSp-ul      0          1       Somatomotor         7  False   Somatomotor\n",
      "33    SSp-n      0          1       Somatomotor         3  False   Somatomotor\n",
      "34   SSp-ll      0          1       Somatomotor         5   True           DMN\n",
      "35  SSp-bfd      0          1       Somatomotor         4  False   Somatomotor\n",
      "36    VISrl      0          1            Visual        39  False        Visual\n",
      "37    VISli      0          1            Visual        23  False        Visual\n",
      "38    VISal      0          1            Visual        17  False        Visual\n",
      "39     VISl      0          1            Visual        19  False        Visual\n",
      "40     VISp      0          1            Visual        20  False        Visual\n",
      "41   VISpor      0          1            Visual        24  False        Visual\n",
      "42    VISpl      0          1            Visual        21  False        Visual\n"
     ]
    }
   ],
   "source": [
    "# Whitesell DMN regions\n",
    "dmn_regions = [\n",
    "    \"ACAd\",\n",
    "    \"ACAv\",\n",
    "    \"PL\",\n",
    "    \"ILA\",\n",
    "    \"ORBl\",\n",
    "    \"ORBm\",\n",
    "    \"ORBvl\",\n",
    "    \"VISa\",\n",
    "    \"VISam\",\n",
    "    \"RSPagl\",\n",
    "    \"RSPd\",\n",
    "    \"RSPv\",\n",
    "    \"SSp-tr\",\n",
    "    \"SSp-ll\",\n",
    "    \"MOs\",\n",
    "]\n",
    "\n",
    "region_class.set_index(\"Region\", inplace=True)\n",
    "region_class[\"DMN\"] = np.zeros(n_nodes).astype(bool)\n",
    "for idx in dmn_regions:\n",
    "    region_class.loc[idx, \"DMN\"] = True\n",
    "region_class.reset_index(inplace=True, drop=False)\n",
    "\n",
    "# create new system labels column that uses DMN to overwrite existing modules\n",
    "region_class[\"system_labels\"] = region_class[\"Isocortex_modules\"]\n",
    "region_class.loc[region_class[\"DMN\"], \"system_labels\"] = \"DMN\"\n",
    "\n",
    "print(region_class)"
   ]
  },
  {
   "cell_type": "markdown",
   "metadata": {
    "collapsed": false
   },
   "source": [
    "### Get states"
   ]
  },
  {
   "cell_type": "code",
   "execution_count": 6,
   "metadata": {
    "ExecuteTime": {
     "end_time": "2023-07-25T15:48:30.147569Z",
     "start_time": "2023-07-25T15:48:30.146208Z"
    },
    "collapsed": false,
    "pycharm": {
     "name": "#%%\n"
    }
   },
   "outputs": [],
   "source": [
    "# get system labels\n",
    "system_labels = list(region_class[\"system_labels\"])"
   ]
  },
  {
   "cell_type": "code",
   "execution_count": 7,
   "metadata": {
    "ExecuteTime": {
     "end_time": "2023-07-25T15:48:30.150095Z",
     "start_time": "2023-07-25T15:48:30.148423Z"
    },
    "collapsed": false,
    "pycharm": {
     "name": "#%%\n"
    }
   },
   "outputs": [
    {
     "name": "stdout",
     "output_type": "stream",
     "text": [
      "43\n",
      "['Auditory', 'Auditory', 'Auditory', 'Auditory', 'Lateral', 'Lateral', 'Lateral', 'Lateral', 'Lateral', 'Lateral', 'Lateral', 'Lateral', 'DMN', 'DMN', 'DMN', 'DMN', 'DMN', 'Medial', 'DMN', 'DMN']\n"
     ]
    }
   ],
   "source": [
    "print(len(system_labels))\n",
    "print(system_labels[:20])"
   ]
  },
  {
   "cell_type": "code",
   "execution_count": 8,
   "metadata": {
    "ExecuteTime": {
     "end_time": "2023-07-25T15:48:30.151871Z",
     "start_time": "2023-07-25T15:48:30.150686Z"
    },
    "collapsed": false,
    "pycharm": {
     "name": "#%%\n"
    }
   },
   "outputs": [],
   "source": [
    "# use list of system names to create states\n",
    "states, state_labels = convert_states_str2int(system_labels)"
   ]
  },
  {
   "cell_type": "markdown",
   "metadata": {
    "collapsed": false
   },
   "source": [
    "### Setup control tasks"
   ]
  },
  {
   "cell_type": "code",
   "execution_count": 9,
   "metadata": {
    "ExecuteTime": {
     "end_time": "2023-07-25T15:48:30.155315Z",
     "start_time": "2023-07-25T15:48:30.153963Z"
    },
    "collapsed": false,
    "pycharm": {
     "name": "#%%\n"
    }
   },
   "outputs": [],
   "source": [
    "# initialize list of control tasks\n",
    "control_tasks = []\n",
    "\n",
    "# define control nodes using a uniform full control set\n",
    "# note, here we use the same control nodes for all control tasks\n",
    "control_set = np.eye(n_nodes)\n",
    "\n",
    "# define state trajectory constraint nodes.\n",
    "# note, here we constrain the full state trajectory equally for all control tasks\n",
    "trajectory_constraints = np.eye(n_nodes)\n",
    "\n",
    "# define mixing parameter\n",
    "rho = 1\n",
    "\n",
    "initial_state = states == state_labels.index(\"DMN\")\n",
    "initial_state = normalize_state(initial_state)  # normalize state magnitude\n",
    "\n",
    "# assemble control tasks\n",
    "for i in [\"Lateral\", \"Visual\", \"Auditory\"]:\n",
    "    target_state = states == state_labels.index(i)\n",
    "    target_state = normalize_state(target_state)  # normalize state magnitude\n",
    "\n",
    "    # i to j\n",
    "    control_task = dict()  # initialize dict\n",
    "    control_task[\"x0\"] = initial_state  # store initial state\n",
    "    control_task[\"xf\"] = target_state  # store target state\n",
    "    control_task[\"B\"] = control_set  # store control nodes\n",
    "    control_task[\"S\"] = trajectory_constraints  # store state trajectory constraints\n",
    "    control_task[\"rho\"] = rho  # store rho\n",
    "    control_tasks.append(control_task)\n",
    "\n",
    "    # j back to i\n",
    "    control_task = dict()  # initialize dict\n",
    "    control_task[\"x0\"] = target_state  # store initial state\n",
    "    control_task[\"xf\"] = initial_state  # store target state\n",
    "    control_task[\"B\"] = control_set  # store control nodes\n",
    "    control_task[\"S\"] = trajectory_constraints  # store state trajectory constraints\n",
    "    control_task[\"rho\"] = rho  # store rho\n",
    "    control_tasks.append(control_task)"
   ]
  },
  {
   "cell_type": "markdown",
   "metadata": {
    "collapsed": false
   },
   "source": [
    "### Run ComputeControlEnergy"
   ]
  },
  {
   "cell_type": "code",
   "execution_count": 10,
   "metadata": {
    "ExecuteTime": {
     "end_time": "2023-07-25T15:48:30.419437Z",
     "start_time": "2023-07-25T15:48:30.157296Z"
    },
    "collapsed": false,
    "pycharm": {
     "name": "#%%\n"
    }
   },
   "outputs": [
    {
     "name": "stderr",
     "output_type": "stream",
     "text": [
      "100%|██████████| 6/6 [00:04<00:00,  1.21it/s]"
     ]
    },
    {
     "name": "stdout",
     "output_type": "stream",
     "text": [
      "[[2724.37609829 1944.85054695]\n",
      " [2406.76108952 2211.65778753]\n",
      " [2437.44752492 2081.29461031]]\n",
      "[-779.52555135 -195.10330199 -356.15291461]\n"
     ]
    },
    {
     "name": "stderr",
     "output_type": "stream",
     "text": [
      "\n"
     ]
    }
   ],
   "source": [
    "# compute control energy across all control tasks\n",
    "compute_control_energy = ComputeControlEnergy(\n",
    "    A=adjacency, control_tasks=control_tasks, system=\"continuous\", c=1, T=1\n",
    ")\n",
    "compute_control_energy.run()\n",
    "\n",
    "# reshape to set DMN-to-X on first column and X-to-DMN on second column\n",
    "energy = np.reshape(compute_control_energy.E, (3, 2))  # reshape energy\n",
    "energy_delta = energy[:, 1] - energy[:, 0]  # get energy asymmetries\n",
    "print(energy)\n",
    "print(energy_delta)"
   ]
  },
  {
   "cell_type": "markdown",
   "metadata": {
    "collapsed": false
   },
   "source": [
    "### Re-run ComputeControlEnergy using symmetric mouse connectome"
   ]
  },
  {
   "cell_type": "code",
   "execution_count": 11,
   "metadata": {
    "ExecuteTime": {
     "end_time": "2023-07-25T15:48:30.690907Z",
     "start_time": "2023-07-25T15:48:30.420149Z"
    },
    "collapsed": false,
    "pycharm": {
     "name": "#%%\n"
    }
   },
   "outputs": [
    {
     "name": "stderr",
     "output_type": "stream",
     "text": [
      "100%|██████████| 6/6 [00:02<00:00,  2.44it/s]"
     ]
    },
    {
     "name": "stdout",
     "output_type": "stream",
     "text": [
      "[[2629.9971009  1981.65371474]\n",
      " [2313.32338045 2134.434777  ]\n",
      " [2372.15441145 2107.89956547]]\n",
      "[-648.34338616 -178.88860345 -264.25484598]\n"
     ]
    },
    {
     "name": "stderr",
     "output_type": "stream",
     "text": [
      "\n"
     ]
    }
   ],
   "source": [
    "adjacency_symmetric = (adjacency + adjacency.T) / 2  # symmetrize mouse connectome\n",
    "\n",
    "# compute control energy across all control tasks\n",
    "compute_control_energy = ComputeControlEnergy(\n",
    "    A=adjacency_symmetric, control_tasks=control_tasks, system=\"continuous\", c=1, T=1\n",
    ")\n",
    "compute_control_energy.run()\n",
    "\n",
    "# reshape to set DMN-to-X on first column and X-to-DMN on second column\n",
    "energy_symmetric = np.reshape(compute_control_energy.E, (3, 2))  # reshape energy\n",
    "energy_symmetric_delta = energy_symmetric[:, 1] - energy_symmetric[:, 0]  # get energy asymmetries\n",
    "print(energy_symmetric)\n",
    "print(energy_symmetric_delta)"
   ]
  },
  {
   "cell_type": "code",
   "execution_count": 12,
   "metadata": {
    "ExecuteTime": {
     "end_time": "2023-07-25T15:48:30.730180Z",
     "start_time": "2023-07-25T15:48:30.693522Z"
    },
    "collapsed": false,
    "pycharm": {
     "name": "#%%\n"
    }
   },
   "outputs": [
    {
     "name": "stdout",
     "output_type": "stream",
     "text": [
      "[131.18216519  16.21469854  91.89806863]\n",
      "[20.0, 9.0, 35.0]\n"
     ]
    }
   ],
   "source": [
    "# get differences in energy asymmetries between directed and undirected connectome\n",
    "asym_dif = np.abs(energy_delta) - np.abs(energy_symmetric_delta)\n",
    "print(asym_dif)\n",
    "\n",
    "\n",
    "# get percent change in energy asymmetries\n",
    "def perc_change(x, y):\n",
    "    return np.round((y - x) / np.abs(x) * 100)\n",
    "\n",
    "\n",
    "asym_dif_perc = []\n",
    "for i in np.arange(len(asym_dif)):\n",
    "    asym_dif_perc.append(perc_change(np.abs(energy_symmetric_delta[i]), np.abs(energy_delta[i])))\n",
    "print(asym_dif_perc)"
   ]
  },
  {
   "cell_type": "markdown",
   "metadata": {
    "collapsed": false,
    "pycharm": {
     "name": "#%% md\n"
    }
   },
   "source": [
    "## Plot results"
   ]
  },
  {
   "cell_type": "code",
   "execution_count": 13,
   "metadata": {
    "ExecuteTime": {
     "end_time": "2023-07-25T15:48:31.379736Z",
     "start_time": "2023-07-25T15:48:30.705858Z"
    },
    "collapsed": false,
    "pycharm": {
     "name": "#%%\n"
    }
   },
   "outputs": [
    {
     "data": {
      "image/png": "[encoded data removed]",
      "text/plain": [
       "<Figure size 715x375 with 3 Axes>"
      ]
     },
     "metadata": {},
     "output_type": "display_data"
    }
   ],
   "source": [
    "cmap = sns.color_palette(\"Set2\")\n",
    "sns.set_style(style='ticks')\n",
    "\n",
    "labels = [\"lateral\", \"visual\", \"auditory\"]\n",
    "x = np.arange(len(labels))  # the label locations\n",
    "width = 0.3  # the width of the bars\n",
    "\n",
    "f, ax = plt.subplots(1, 3, figsize=(7.15, 3.75))\n",
    "\n",
    "# directed adjacency matrix\n",
    "rects1 = ax[0].bar(\n",
    "    x - width / 2,\n",
    "    energy[:, 0],\n",
    "    color=cmap[0],\n",
    "    edgecolor=cmap[0],\n",
    "    width=width,\n",
    "    label=\"from DMN\",\n",
    ")\n",
    "rects2 = ax[0].bar(\n",
    "    x + width / 2,\n",
    "    energy[:, 1],\n",
    "    color=cmap[1],\n",
    "    edgecolor=cmap[1],\n",
    "    width=width,\n",
    "    label=\"to DMN\",\n",
    ")\n",
    "rects3 = ax[0].bar(\n",
    "    x + width / 2,\n",
    "    np.abs(energy_delta),\n",
    "    bottom=energy[:, 1],\n",
    "    # color=\"w\",\n",
    "    color=cmap[2],\n",
    "    edgecolor=cmap[2],\n",
    "    # hatch=\"///\",\n",
    "    width=width,\n",
    ")\n",
    "\n",
    "ax[0].set_title(\"A | Directed connectome\")\n",
    "ax[0].set_ylabel(\"control energy\")\n",
    "ax[0].set_xticks(x, labels)\n",
    "ax[0].legend(bbox_to_anchor=(0.5, -0.4), loc=\"lower center\")\n",
    "ax[0].set_ylim([0, 2800])\n",
    "\n",
    "ax[0].bar_label(rects1, padding=-30, fmt=\"%i\", rotation=270, color=\"w\")\n",
    "ax[0].bar_label(rects2, padding=-30, fmt=\"%i\", rotation=270, color=\"w\")\n",
    "\n",
    "# undirected adjacency matrix\n",
    "rects1 = ax[1].bar(\n",
    "    x - width / 2,\n",
    "    energy_symmetric[:, 0],\n",
    "    color=cmap[0],\n",
    "    edgecolor=cmap[0],\n",
    "    width=width,\n",
    "    label=\"from DMN\",\n",
    ")\n",
    "rects2 = ax[1].bar(\n",
    "    x + width / 2,\n",
    "    energy_symmetric[:, 1],\n",
    "    color=cmap[1],\n",
    "    edgecolor=cmap[1],\n",
    "    width=width,\n",
    "    label=\"to DMN\",\n",
    ")\n",
    "rects3 = ax[1].bar(\n",
    "    x + width / 2,\n",
    "    np.abs(energy_symmetric_delta),\n",
    "    bottom=energy_symmetric[:, 1],\n",
    "    color=\"w\",\n",
    "    edgecolor=cmap[2],\n",
    "    width=width,\n",
    "    label=\"Asymmetry (abs.)\",\n",
    ")\n",
    "\n",
    "ax[1].set_title(\"B | Undirected connectome\")\n",
    "ax[1].set_ylabel(\"control energy\")\n",
    "ax[1].set_xticks(x, labels)\n",
    "ax[1].set_ylim([0, 2800])\n",
    "\n",
    "ax[1].bar_label(rects1, padding=-30, fmt=\"%i\", rotation=270, color=\"w\")\n",
    "ax[1].bar_label(rects2, padding=-30, fmt=\"%i\", rotation=270, color=\"w\")\n",
    "\n",
    "# asymmetries\n",
    "rects1 = ax[2].bar(\n",
    "    x - width / 2,\n",
    "    np.abs(energy_delta),\n",
    "    # color=\"w\",\n",
    "    color=cmap[2],\n",
    "    edgecolor=cmap[2],\n",
    "    # hatch=\"///\",\n",
    "    width=width,\n",
    "    label=\"directed asymmetry\",\n",
    ")\n",
    "rects2 = ax[2].bar(\n",
    "    x + width / 2,\n",
    "    np.abs(energy_symmetric_delta),\n",
    "    color=\"w\",\n",
    "    edgecolor=cmap[2],\n",
    "    width=width,\n",
    "    label=\"undirected asymmetry\",\n",
    ")\n",
    "\n",
    "ax[2].set_title(\"C | Energy asymmetries\")\n",
    "ax[2].set_ylabel(\"absolute energy asymmetry\")\n",
    "ax[2].set_xticks(x, labels)\n",
    "ax[2].set_ylim([0, 850])\n",
    "\n",
    "for i, p in enumerate(rects2):\n",
    "    height = p.get_height()\n",
    "    ax[2].text(\n",
    "        x=p.get_x() + p.get_width() / 2,\n",
    "        y=height + asym_dif[i] + 10,\n",
    "        s=\"({:.0f})\".format(asym_dif[i]),\n",
    "        ha=\"center\",\n",
    "    )\n",
    "    ax[2].axvline(\n",
    "        x=p.get_x() + p.get_width() / 2,\n",
    "        ymin=height / 850,\n",
    "        ymax=(height + asym_dif[i]) / 850,\n",
    "        color=\"k\",\n",
    "        linestyle=\"--\",\n",
    "    )\n",
    "ax[2].text(x=1.5, y=600, s=\"(asymmetry\\ndifference)\", ha=\"center\")\n",
    "ax[2].legend(bbox_to_anchor=(0.5, -0.4), loc=\"lower center\")\n",
    "\n",
    "f.tight_layout()\n",
    "f.savefig(\n",
    "    os.path.join(resultsdir, \"mouse_energy.png\"),\n",
    "    dpi=600,\n",
    "    bbox_inches=\"tight\",\n",
    "    pad_inches=0.01,\n",
    ")\n",
    "plt.show()"
   ]
  }
 ],
 "metadata": {
  "kernelspec": {
   "display_name": "Python 3",
   "language": "python",
   "name": "python3"
  },
  "language_info": {
   "codemirror_mode": {
    "name": "ipython",
    "version": 3
   },
   "file_extension": ".py",
   "mimetype": "text/x-python",
   "name": "python",
   "nbconvert_exporter": "python",
   "pygments_lexer": "ipython3",
   "version": "3.9.16"
  }
 },
 "nbformat": 4,
 "nbformat_minor": 0
}
