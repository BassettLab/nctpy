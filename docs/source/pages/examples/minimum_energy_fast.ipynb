{
 "cells": [
  {
   "cell_type": "code",
   "execution_count": 1,
   "metadata": {
    "collapsed": true
   },
   "outputs": [],
   "source": [
    "# import\n",
    "import os\n",
    "import numpy as np\n",
    "from tqdm import tqdm\n",
    "import matplotlib.pyplot as plt\n",
    "import time\n",
    "\n",
    "from nctpy.utils import matrix_normalization\n",
    "from nctpy.energies import get_control_inputs, integrate_u\n",
    "from nctpy.energies import minimum_energy_fast\n",
    "from nctpy.utils import expand_states\n",
    "from nctpy.plotting import set_plotting_params, reg_plot\n",
    "set_plotting_params()"
   ]
  },
  {
   "cell_type": "code",
   "execution_count": 2,
   "metadata": {
    "pycharm": {
     "name": "#%%\n"
    }
   },
   "outputs": [],
   "source": [
    "# load data\n",
    "projdir = '/Users/lindenmp/Google-Drive-Penn/work/research_projects/nctpy'\n",
    "A = np.load(os.path.join(projdir, 'data', 'pnc_schaefer200_Am.npy'))"
   ]
  },
  {
   "cell_type": "code",
   "execution_count": 3,
   "outputs": [
    {
     "name": "stdout",
     "output_type": "stream",
     "text": [
      "(200, 200)\n"
     ]
    }
   ],
   "source": [
    "print(A.shape)"
   ],
   "metadata": {
    "collapsed": false,
    "pycharm": {
     "name": "#%%\n"
    }
   }
  },
  {
   "cell_type": "markdown",
   "metadata": {},
   "source": [
    "## Energy settings"
   ]
  },
  {
   "cell_type": "code",
   "execution_count": 4,
   "metadata": {
    "pycharm": {
     "name": "#%%\n"
    }
   },
   "outputs": [],
   "source": [
    "# setup states\n",
    "n_nodes = A.shape[0]\n",
    "n_states = int(n_nodes/10)\n",
    "state_size = int(n_nodes/n_states)\n",
    "\n",
    "states = np.array([])\n",
    "for i in np.arange(n_states):\n",
    "    states = np.append(states, np.ones(state_size) * i)\n",
    "states = states.astype(int)"
   ]
  },
  {
   "cell_type": "code",
   "execution_count": 5,
   "metadata": {
    "pycharm": {
     "name": "#%%\n"
    }
   },
   "outputs": [
    {
     "name": "stdout",
     "output_type": "stream",
     "text": [
      "[ 0  0  0  0  0  0  0  0  0  0  1  1  1  1  1  1  1  1  1  1  2  2  2  2\n",
      "  2  2  2  2  2  2  3  3  3  3  3  3  3  3  3  3  4  4  4  4  4  4  4  4\n",
      "  4  4  5  5  5  5  5  5  5  5  5  5  6  6  6  6  6  6  6  6  6  6  7  7\n",
      "  7  7  7  7  7  7  7  7  8  8  8  8  8  8  8  8  8  8  9  9  9  9  9  9\n",
      "  9  9  9  9 10 10 10 10 10 10 10 10 10 10 11 11 11 11 11 11 11 11 11 11\n",
      " 12 12 12 12 12 12 12 12 12 12 13 13 13 13 13 13 13 13 13 13 14 14 14 14\n",
      " 14 14 14 14 14 14 15 15 15 15 15 15 15 15 15 15 16 16 16 16 16 16 16 16\n",
      " 16 16 17 17 17 17 17 17 17 17 17 17 18 18 18 18 18 18 18 18 18 18 19 19\n",
      " 19 19 19 19 19 19 19 19]\n"
     ]
    }
   ],
   "source": [
    "print(states)"
   ]
  },
  {
   "cell_type": "markdown",
   "metadata": {},
   "source": [
    "## Minimum energy"
   ]
  },
  {
   "cell_type": "code",
   "execution_count": 6,
   "metadata": {
    "pycharm": {
     "name": "#%%\n"
    }
   },
   "outputs": [],
   "source": [
    "# settings\n",
    "# time horizon\n",
    "T = 1\n",
    "# set all nodes as control nodes\n",
    "B = np.eye(n_nodes)\n",
    "# normalize A matrix for a continuous-time system\n",
    "system = 'continuous'\n",
    "A_norm = matrix_normalization(A, system=system)"
   ]
  },
  {
   "cell_type": "code",
   "execution_count": 7,
   "metadata": {
    "pycharm": {
     "name": "#%%\n"
    }
   },
   "outputs": [
    {
     "name": "stderr",
     "output_type": "stream",
     "text": [
      "100%|██████████| 20/20 [01:35<00:00,  4.78s/it]"
     ]
    },
    {
     "name": "stdout",
     "output_type": "stream",
     "text": [
      "time elapsed in seconds: 95.68\n"
     ]
    },
    {
     "name": "stderr",
     "output_type": "stream",
     "text": [
      "\n"
     ]
    }
   ],
   "source": [
    "start_time = time.time()  # start timer\n",
    "\n",
    "# settings for minimum control energy\n",
    "S = np.zeros((n_nodes, n_nodes))  # x is not constrained\n",
    "xr = 'zero'  # x and u constrained toward zero activity\n",
    "\n",
    "e = np.zeros((n_states, n_states))\n",
    "for i in tqdm(np.arange(n_states)):\n",
    "    x0 = states == i  # get ith initial state\n",
    "    for j in np.arange(n_states):\n",
    "        xf = states == j  # get jth target state\n",
    "        x, u, n_err = get_control_inputs(A_norm=A_norm, T=T, B=B, x0=x0, xf=xf, system=system, xr=xr, S=S,\n",
    "                                         expm_version='eig')  # get control inputs using minimum control\n",
    "        e[i, j] = np.sum(integrate_u(u))\n",
    "\n",
    "e = e / 1000  # divide e by 1000 to account for dt=0.001 in get_control_inputs\n",
    "\n",
    "end_time = time.time()  # stop timer\n",
    "elapsed_time = end_time - start_time\n",
    "print('time elapsed in seconds: {:.2f}'.format(elapsed_time))  # print elapsed time"
   ]
  },
  {
   "cell_type": "markdown",
   "metadata": {},
   "source": [
    "## Minimum energy fast"
   ]
  },
  {
   "cell_type": "code",
   "execution_count": 8,
   "metadata": {
    "pycharm": {
     "name": "#%%\n"
    }
   },
   "outputs": [
    {
     "name": "stdout",
     "output_type": "stream",
     "text": [
      "(200, 400) (200, 400)\n"
     ]
    }
   ],
   "source": [
    "x0_mat, xf_mat = expand_states(states)\n",
    "print(x0_mat.shape, xf_mat.shape)"
   ]
  },
  {
   "cell_type": "code",
   "execution_count": 9,
   "metadata": {
    "pycharm": {
     "name": "#%%\n"
    }
   },
   "outputs": [
    {
     "name": "stdout",
     "output_type": "stream",
     "text": [
      "time elapsed in seconds: 0.29\n"
     ]
    }
   ],
   "source": [
    "start_time = time.time()  # start timer\n",
    "\n",
    "e_fast = minimum_energy_fast(A_norm=A_norm, T=T, B=B, x0=x0_mat, xf=xf_mat)\n",
    "e_fast = e_fast.transpose().reshape(n_states, n_states, n_nodes)\n",
    "e_fast = np.sum(e_fast, axis=2)  # sum over nodes\n",
    "\n",
    "end_time = time.time()  # stop timer\n",
    "elapsed_time = end_time - start_time\n",
    "print('time elapsed in seconds: {:.2f}'.format(elapsed_time)) # print elapsed time"
   ]
  },
  {
   "cell_type": "code",
   "execution_count": 10,
   "metadata": {
    "pycharm": {
     "name": "#%%\n"
    }
   },
   "outputs": [
    {
     "name": "stdout",
     "output_type": "stream",
     "text": [
      "(20, 20)\n",
      "(20, 20)\n"
     ]
    }
   ],
   "source": [
    "print(e.shape)\n",
    "print(e_fast.shape)"
   ]
  },
  {
   "cell_type": "code",
   "execution_count": 11,
   "outputs": [
    {
     "name": "stdout",
     "output_type": "stream",
     "text": [
      "2.7267077484793845e-11\n"
     ]
    }
   ],
   "source": [
    "print(np.max(e - e_fast))"
   ],
   "metadata": {
    "collapsed": false,
    "pycharm": {
     "name": "#%%\n"
    }
   }
  },
  {
   "cell_type": "markdown",
   "metadata": {},
   "source": [
    "### Plots"
   ]
  },
  {
   "cell_type": "code",
   "execution_count": 12,
   "metadata": {
    "pycharm": {
     "name": "#%%\n"
    }
   },
   "outputs": [
    {
     "data": {
      "text/plain": "<Figure size 400x400 with 1 Axes>",
      "image/png": "[encoded data removed]"
     },
     "metadata": {},
     "output_type": "display_data"
    }
   ],
   "source": [
    "# plot\n",
    "f, ax = plt.subplots(1, 1, figsize=(4, 4))\n",
    "\n",
    "# correlation between whole-brain energy across state transitions\n",
    "reg_plot(x=e.flatten(), y=e_fast.flatten(), xlabel='minumum energy', ylabel='minumum energy (fast)',\n",
    "         ax=ax, add_spearman=True, kdeplot=False, regplot=False)\n",
    "plt.show()\n",
    "f.savefig('minimum_energy_fast', dpi=300, bbox_inches='tight', pad_inches=0.1)\n",
    "plt.close()"
   ]
  }
 ],
 "metadata": {
  "kernelspec": {
   "display_name": "Python 3",
   "language": "python",
   "name": "python3"
  },
  "language_info": {
   "codemirror_mode": {
    "name": "ipython",
    "version": 3
   },
   "file_extension": ".py",
   "mimetype": "text/x-python",
   "name": "python",
   "nbconvert_exporter": "python",
   "pygments_lexer": "ipython3",
   "version": "3.6.3"
  }
 },
 "nbformat": 4,
 "nbformat_minor": 1
}